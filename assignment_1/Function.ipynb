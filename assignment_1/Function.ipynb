{
  "nbformat": 4,
  "nbformat_minor": 0,
  "metadata": {
    "colab": {
      "provenance": []
    },
    "kernelspec": {
      "name": "python3",
      "display_name": "Python 3"
    },
    "language_info": {
      "name": "python"
    }
  },
  "cells": [
    {
      "cell_type": "markdown",
      "source": [
        "Function"
      ],
      "metadata": {
        "id": "Y6LrqX_G5Ngn"
      }
    },
    {
      "cell_type": "markdown",
      "source": [
        "1)What is Python, and why is it popular ?\n",
        "\n",
        "     -\n",
        "    Python is a high-level, interpreted, and general-purpose programming language. It is known for its simple and readable syntax, which makes it easy to learn and use.\n",
        "    \n",
        "    **Reasons why Python is popular:**\n",
        "     Easy to Learn and Read – Its syntax is simple and close to natural language, so beginners can understand it quickly.\n",
        "\n",
        "      Versatile – Can be used for web development, data analysis, artificial intelligence, automation, scientific computing, and more.\n",
        "\n",
        "      Large Standard Library – Comes with many built-in modules and functions that save time and effort.\n",
        "\n",
        "      Cross-Platform – Runs on Windows, macOS, Linux, and more without major code changes.\n",
        "\n",
        "      Strong Community Support – A large community provides tutorials, documentation, and third-party packages.\n",
        "\n",
        "      Integration Capabilities – Easily integrates with other languages like C, C++, and Java.\n",
        "\n",
        "2)What is an interpreter in Python ?\n",
        "\n",
        "    -An interpreter is a program that reads and executes code line by line instead of converting the entire program into machine code at once.\n",
        "    In Python, the interpreter processes each line of code, translates it into machine-readable instructions, and immediately runs it. This allows quick testing and debugging but can be slower than compiled languages.\n",
        "   \n",
        "\n",
        "3)What are pre-defined keywords in Python ?\n",
        "\n",
        "    -Pre-defined keywords are reserved words in Python that have a special meaning and purpose in the language. These words are part of Python’s syntax and cannot be used as variable names, function names, or identifiers.\n",
        "    Example:if = 5   #  Invalid, because \"if\" is a keyword\n",
        "    Examples of Python Keywords: and, or, not, if, else, elif, for, while, break, continue,def, import, return, True, False, None\n",
        "\n",
        "4)Can keywords be used as variable names ?\n",
        "\n",
        "    -No, keywords cannot be used as variable names in Python because they are reserved words with special meaning in the language.\n",
        "    If we try to use a keyword as a variable name, Python will give a SyntaxError.\n",
        "    Example:for = \"this is loop\"   #  Invalid, because \"for\" is a keyword\n",
        "\n",
        "5)What is mutability in Python?\n",
        "\n",
        "    -Mutability refers to whether an object’s value can be changed after it is created.\n",
        "    Mutable objects → Can be modified without creating a new object.\n",
        "    Immutable objects → Cannot be modified changing them creates a new object.\n",
        "    example: my_str = \"Hello\"\n",
        "    my_str[0]='n' #gives error because string is immutable\n",
        "    my_list = [1, 2, 3]\n",
        "    my_list[0] = 10 #allowed because list is mutable\n",
        "\n",
        "6)Why are lists mutable, but tuples are immutable?\n",
        "\n",
        "    - Lists are mutable\n",
        "    Lists are designed to store collections of items where the data may need to change.\n",
        "    They allow adding, removing, or modifying elements without creating a new object.\n",
        "    -Tuples are immutable\n",
        "    Tuples are designed to store fixed collections of items.\n",
        "    Once created, you cannot change, add, or remove elements — any change creates a new tuple.\n",
        "    -Reason for the difference:\n",
        "    Lists prioritize flexibility → they are meant for dynamic data.\n",
        "    Tuples prioritize stability and performance → they are faster and can be used as dictionary keys because they don’t change.\n",
        "\n",
        "7)What is the difference between “==” and “is” operators in Python?\n",
        "    \n",
        "    - \"==\" Equality operator compares values of object e.g a=5 ,b=5 a == b output is True\n",
        "    - “is” Identity operator\tcompares memory locations where this values are stored\n",
        "    e.g a = [1, 2, 3]\n",
        "    b = [1, 2, 3]\n",
        "    print(a is b)  #False (different memory locations)  \n",
        "\n",
        "8)What are logical operators in Python?\n",
        "\n",
        "    -Logical operators are special symbols in Python that are used to combine conditional statements and return a Boolean value (True/False) based on the conditions.\n",
        "    -Types of logical operator 1)and 2)or 3)not\n",
        "    1)and :- Returns True if both conditions are true\n",
        "    e.g :- (5 > 2) and (4 > 1)\n",
        "    output :- True\n",
        "    2)or :-Returns True if at least one condition is true\n",
        "    e.g :-(5 > 2) or (4 < 1)\n",
        "    output:-True\n",
        "    3)not :-Reverses the result (True → False, False → True)\n",
        "    e.g :-not(5 > 2)\n",
        "    output:-False\n",
        "\n",
        "9)What is type casting in Python?\n",
        "\n",
        "    -Type casting is the process of converting one data type into another in Python.\n",
        "    Types of Type Casting:\n",
        "    1)Implicit Type Casting -Done automatically by Python. Example:x = 5  \n",
        "    python automatically convert 5 into int\n",
        "    2)Explicit Type Casting -Done manually using built-in functions.\n",
        "    example:\n",
        "    num_str = \"100\"\n",
        "    num_int = int(num_str) #Here string \"100\" convert into integer value 100\n",
        "\n",
        "10)What is the difference between implicit and explicit type casting?\n",
        "\n",
        "    -Implicit type casting in Python happens automatically when the interpreter converts one data type into another to avoid data loss. For example, when you add an integer and a float (5 + 2.5), Python automatically converts the integer into a float and gives the result as 7.5. In this process, the programmer does not need to do anything, and no special function.\n",
        "    -Explicit type casting, on the other hand, is when the programmer manually converts one data type into another using built-in functions such as int(), float(), str() and so on. For example, if we have a string \"100\" and want to use it in a calculation, we can convert it into an integer by writing int(\"100\"), which will allow you to perform arithmetic operations on it.\n",
        "\n",
        "11)What is the purpose of conditional statements in Python?\n",
        "\n",
        "    -The purpose of conditional statements in Python is to allow a program to make decisions and execute different blocks of code based on whether a condition is True or False. They help control the flow of a program so that certain actions are performed only when specific criteria are met.\n",
        "\n",
        "    For example, using statements like if, elif, and else, Python can check conditions and choose which code to run:\n",
        "    code:-\n",
        "    age = 18\n",
        "    if age >= 18:\n",
        "        print(\"You are eligible to vote.\")\n",
        "    else:\n",
        "        print(\"You are not eligible to vote.\")\n",
        "12)How does the elif statement work\n",
        "\n",
        "    -The elif statement is used when we want to check multiple conditions in a program.\n",
        "    It comes after an if statement and before an optional else statement.\n",
        "    Python evaluates conditions from top to bottom as soon as it finds a condition that is True, it executes that block of code and skips the rest.\n",
        "    e.g code\n",
        "    name='shreyash'\n",
        "    if 'om' == name:\n",
        "        print('match option 1')\n",
        "    elif 'shreyash' == name:\n",
        "        print('match found ption 2')\n",
        "    elif 'athrav' == name:\n",
        "        print('match found ption 3')\n",
        "    else:\n",
        "        print('match not found')       \n",
        "\n",
        "13)What is the difference between for and while loops?\n",
        "\n",
        "    -The for loop in Python is used when we know in advance how many times we want to execute a block of code. It is typically used to iterate over a sequence such as a list, tuple, string, or range of numbers.\n",
        "    For example:\n",
        "    for i in range(5):\n",
        "    print(i)\n",
        "    -while loop\n",
        "    This loop will run exactly five times, printing numbers from 0 to 4.\n",
        "    The while loop, on the other hand, is used when we do not know in advance how many times the loop should run. Instead, it keeps executing the block of code as long as a given condition remains True. For example:\n",
        "    count = 0\n",
        "    while count < 5:\n",
        "    print(count)\n",
        "    count += 1\n",
        "    This loop will continue running until the condition count < 5 becomes False\n",
        "\n",
        "14)Describe a scenario where a while loop is more suitable than a for loop.\n",
        "\n",
        "    -Suppose we are creating a program that asks a user to enter a password until they get it right. Since we don’t know how many attempts the user will take, a while loop is ideal:\n",
        "    password = \"python123\"\n",
        "    user_input = \"\"\n",
        "    while user_input != password:\n",
        "        user_input = input(\"Enter password: \")\n",
        "    print(\"Access granted!\")\n",
        "    Here the loop will keep running until the correct password is entered. which makes it more appropriate than a for loop that runs a fixed number of times.\n",
        "\n"
      ],
      "metadata": {
        "id": "5ZQHv2lI5Ulb"
      }
    },
    {
      "cell_type": "markdown",
      "source": [
        "Practical questions"
      ],
      "metadata": {
        "id": "T4Lf_mQd0A35"
      }
    },
    {
      "cell_type": "code",
      "source": [
        "# 1) Python program to print Hello, World!\n",
        "print(\"Hello, World!\")"
      ],
      "metadata": {
        "colab": {
          "base_uri": "https://localhost:8080/"
        },
        "id": "wqpjlHeS0H1J",
        "outputId": "c7578fa2-a33b-46c3-b8e6-1743a775e6b1"
      },
      "execution_count": 3,
      "outputs": [
        {
          "output_type": "stream",
          "name": "stdout",
          "text": [
            "Hello, World!\n"
          ]
        }
      ]
    },
    {
      "cell_type": "code",
      "source": [
        "# 2)Write a Python program that displays your name and age\n",
        "name = \"Shreyash Pawar\"\n",
        "age = 23\n",
        "\n",
        "print(\"My name is\", name)\n",
        "print(\"I am\", age, \"years old\")"
      ],
      "metadata": {
        "colab": {
          "base_uri": "https://localhost:8080/"
        },
        "id": "i63aUd-Azuzb",
        "outputId": "b4394745-51d8-4377-e493-7d0f6f47614d"
      },
      "execution_count": 4,
      "outputs": [
        {
          "output_type": "stream",
          "name": "stdout",
          "text": [
            "My name is Shreyash Pawar\n",
            "I am 23 years old\n"
          ]
        }
      ]
    },
    {
      "cell_type": "code",
      "execution_count": 6,
      "metadata": {
        "id": "DO-hNhuk483C",
        "colab": {
          "base_uri": "https://localhost:8080/"
        },
        "outputId": "c4f2ae59-94e4-4334-f0f2-a800e3b25feb"
      },
      "outputs": [
        {
          "output_type": "stream",
          "name": "stdout",
          "text": [
            "List of pre-defined keywords in Python:['False', 'None', 'True', 'and', 'as', 'assert', 'async', 'await', 'break', 'class', 'continue', 'def', 'del', 'elif', 'else', 'except', 'finally', 'for', 'from', 'global', 'if', 'import', 'in', 'is', 'lambda', 'nonlocal', 'not', 'or', 'pass', 'raise', 'return', 'try', 'while', 'with', 'yield']\n"
          ]
        }
      ],
      "source": [
        "# 3)Write code to print all the pre-defined keywords in Python using the keyword library\n",
        "import keyword\n",
        "print(f\"List of pre-defined keywords in Python:{keyword.kwlist}\")\n"
      ]
    },
    {
      "cell_type": "code",
      "source": [
        "# 4)Write a program that checks if a given word is a Python keyword.\n",
        "import keyword\n",
        "\n",
        "word = input(\"Enter a word: \")\n",
        "\n",
        "if keyword.iskeyword(word):\n",
        "    print(f\"'{word}' is a Python keyword.\")\n",
        "else:\n",
        "    print(f\"'{word}' is NOT a Python keyword.\")\n"
      ],
      "metadata": {
        "colab": {
          "base_uri": "https://localhost:8080/"
        },
        "id": "bzVUtgNv2hdM",
        "outputId": "48c2b3b0-ec2d-43a2-f1df-fc11b85e870a"
      },
      "execution_count": 7,
      "outputs": [
        {
          "output_type": "stream",
          "name": "stdout",
          "text": [
            "Enter a word: if\n",
            "'if' is a Python keyword.\n"
          ]
        }
      ]
    },
    {
      "cell_type": "code",
      "source": [
        "# 5)Create a list and tuple in Python, and demonstrate how attempting to change an element works differently for each.\n",
        "\n",
        "my_list = [10, 20, 30]\n",
        "my_tuple = (10, 20, 30)\n",
        "\n",
        "# Modifying list element (Allowed - mutable)\n",
        "print(\"Original list:\", my_list)\n",
        "my_list[0] = 100\n",
        "print(\"Modified list:\", my_list)\n",
        "\n",
        "# Modifying tuple element (Not Allowed - immutable)\n",
        "print(\"\\nOriginal tuple:\", my_tuple)\n",
        "my_tuple[0] = 100  # This will cause an error\n",
        "print(\"Modified tuple:\", my_tuple)  # This line will not run\n"
      ],
      "metadata": {
        "colab": {
          "base_uri": "https://localhost:8080/",
          "height": 263
        },
        "id": "UtLyxQAe3C97",
        "outputId": "7569959a-be75-4c43-f4bc-bdf7a75a0e36"
      },
      "execution_count": 8,
      "outputs": [
        {
          "output_type": "stream",
          "name": "stdout",
          "text": [
            "Original list: [10, 20, 30]\n",
            "Modified list: [100, 20, 30]\n",
            "\n",
            "Original tuple: (10, 20, 30)\n"
          ]
        },
        {
          "output_type": "error",
          "ename": "TypeError",
          "evalue": "'tuple' object does not support item assignment",
          "traceback": [
            "\u001b[0;31m---------------------------------------------------------------------------\u001b[0m",
            "\u001b[0;31mTypeError\u001b[0m                                 Traceback (most recent call last)",
            "\u001b[0;32m/tmp/ipython-input-4099706471.py\u001b[0m in \u001b[0;36m<cell line: 0>\u001b[0;34m()\u001b[0m\n\u001b[1;32m     11\u001b[0m \u001b[0;31m# Modifying tuple element (Not Allowed - immutable)\u001b[0m\u001b[0;34m\u001b[0m\u001b[0;34m\u001b[0m\u001b[0m\n\u001b[1;32m     12\u001b[0m \u001b[0mprint\u001b[0m\u001b[0;34m(\u001b[0m\u001b[0;34m\"\\nOriginal tuple:\"\u001b[0m\u001b[0;34m,\u001b[0m \u001b[0mmy_tuple\u001b[0m\u001b[0;34m)\u001b[0m\u001b[0;34m\u001b[0m\u001b[0;34m\u001b[0m\u001b[0m\n\u001b[0;32m---> 13\u001b[0;31m \u001b[0mmy_tuple\u001b[0m\u001b[0;34m[\u001b[0m\u001b[0;36m0\u001b[0m\u001b[0;34m]\u001b[0m \u001b[0;34m=\u001b[0m \u001b[0;36m100\u001b[0m  \u001b[0;31m# This will cause an error\u001b[0m\u001b[0;34m\u001b[0m\u001b[0;34m\u001b[0m\u001b[0m\n\u001b[0m\u001b[1;32m     14\u001b[0m \u001b[0mprint\u001b[0m\u001b[0;34m(\u001b[0m\u001b[0;34m\"Modified tuple:\"\u001b[0m\u001b[0;34m,\u001b[0m \u001b[0mmy_tuple\u001b[0m\u001b[0;34m)\u001b[0m  \u001b[0;31m# This line will not run\u001b[0m\u001b[0;34m\u001b[0m\u001b[0;34m\u001b[0m\u001b[0m\n",
            "\u001b[0;31mTypeError\u001b[0m: 'tuple' object does not support item assignment"
          ]
        }
      ]
    },
    {
      "cell_type": "code",
      "source": [
        "# 6)Write a function to demonstrate the behavior of mutable and immutable arguments\n",
        "def modify_data(num, my_list):\n",
        "    # num is immutable (int)\n",
        "    num += 10  # This creates a new integer object\n",
        "\n",
        "    # my_list is mutable (list)\n",
        "    my_list.append(100)  # This changes the original list\n",
        "\n",
        "    print(\"Inside function:\")\n",
        "    print(\"num =\", num)\n",
        "    print(\"my_list =\", my_list)\n",
        "\n",
        "\n",
        "# Main program\n",
        "x = 5\n",
        "y = [1, 2, 3]\n",
        "\n",
        "print(\"Before function call:\")\n",
        "print(\"x =\", x)\n",
        "print(\"y =\", y)\n",
        "\n",
        "modify_data(x, y)\n",
        "\n",
        "print(\"\\nAfter function call:\")\n",
        "print(\"x =\", x)       # Unchanged because integers are immutable\n",
        "print(\"y =\", y)       # Changed because lists are mutable\n"
      ],
      "metadata": {
        "colab": {
          "base_uri": "https://localhost:8080/"
        },
        "id": "mWT3ejzH37sQ",
        "outputId": "1ea6d4d7-ac3a-4e41-8c03-bc74d599aab9"
      },
      "execution_count": 1,
      "outputs": [
        {
          "output_type": "stream",
          "name": "stdout",
          "text": [
            "Before function call:\n",
            "x = 5\n",
            "y = [1, 2, 3]\n",
            "Inside function:\n",
            "num = 15\n",
            "my_list = [1, 2, 3, 100]\n",
            "\n",
            "After function call:\n",
            "x = 5\n",
            "y = [1, 2, 3, 100]\n"
          ]
        }
      ]
    },
    {
      "cell_type": "code",
      "source": [
        "#7 Write a program that performs basic arithmetic operations on two user-input numbers\n",
        "num1 = float(input(\"Enter first number: \"))\n",
        "num2 = float(input(\"Enter second number: \"))\n",
        "print(\"\\nArithmetic Operations:\")\n",
        "print(\"Addition:\", num1 + num2)\n",
        "print(\"Subtraction:\", num1 - num2)\n",
        "print(\"Multiplication:\", num1 * num2)\n",
        "print(\"Division:\", num1 / num2)\n",
        "print(\"Floor Division:\", num1 // num2)\n",
        "print(\"Modulus:\", num1 % num2)\n",
        "print(\"Exponentiation:\", num1 ** num2)\n"
      ],
      "metadata": {
        "colab": {
          "base_uri": "https://localhost:8080/"
        },
        "id": "ivuqqOf2WShB",
        "outputId": "db74128f-3400-4517-e726-57120b11e71b"
      },
      "execution_count": 3,
      "outputs": [
        {
          "output_type": "stream",
          "name": "stdout",
          "text": [
            "Enter first number: 10\n",
            "Enter second number: 3\n",
            "\n",
            "Arithmetic Operations:\n",
            "Addition: 13.0\n",
            "Subtraction: 7.0\n",
            "Multiplication: 30.0\n",
            "Division: 3.3333333333333335\n",
            "Floor Division: 3.0\n",
            "Modulus: 1.0\n",
            "Exponentiation: 1000.0\n"
          ]
        }
      ]
    },
    {
      "cell_type": "code",
      "source": [
        "# 8)Write a program to demonstrate the use of logical operators\n",
        "x = True\n",
        "y = False\n",
        "\n",
        "print(\"x =\", x)\n",
        "print(\"y =\", y)\n",
        "\n",
        "# Using AND operator\n",
        "print(\"\\nAND Operator:\")\n",
        "print(\"x and y =\", x and y)   # True only if both are True\n",
        "\n",
        "# Using OR operator\n",
        "print(\"\\nOR Operator:\")\n",
        "print(\"x or y =\", x or y)     # True if at least one is True\n",
        "\n",
        "# Using NOT operator\n",
        "print(\"\\nNOT Operator:\")\n",
        "print(\"not x =\", not x)       # Reverses the value of x\n",
        "print(\"not y =\", not y)       # Reverses the value of y"
      ],
      "metadata": {
        "colab": {
          "base_uri": "https://localhost:8080/"
        },
        "id": "ZQ_54mPoW6mc",
        "outputId": "7f88b907-5563-449d-bcf8-82ad7cc7f31f"
      },
      "execution_count": 5,
      "outputs": [
        {
          "output_type": "stream",
          "name": "stdout",
          "text": [
            "x = True\n",
            "y = False\n",
            "\n",
            "AND Operator:\n",
            "x and y = False\n",
            "\n",
            "OR Operator:\n",
            "x or y = True\n",
            "\n",
            "NOT Operator:\n",
            "not x = False\n",
            "not y = True\n"
          ]
        }
      ]
    },
    {
      "cell_type": "code",
      "source": [
        "# 9)Write a Python program to convert user input from string to integer, float, and boolean types\n",
        "\n",
        "user_input = input(\"Enter a value: \")\n",
        "#printing user input\n",
        "print(f\"Enter value is {user_input}\")\n",
        "# Converting to integer\n",
        "int_value = int(user_input)\n",
        "print(\"Integer value:\", int_value)\n",
        "\n",
        "# Converting to float\n",
        "float_value = float(user_input)\n",
        "print(\"Float value:\", float_value)\n",
        "\n",
        "# Converting to boolean\n",
        "bool_value = bool(user_input)\n",
        "print(\"Boolean value:\", bool_value)"
      ],
      "metadata": {
        "colab": {
          "base_uri": "https://localhost:8080/"
        },
        "id": "kepsiI0dZNbE",
        "outputId": "c00be28b-1d19-4aae-b97c-f04fb7705c31"
      },
      "execution_count": 8,
      "outputs": [
        {
          "output_type": "stream",
          "name": "stdout",
          "text": [
            "Enter a value: 2\n",
            "Enter value is 2\n",
            "Integer value: 2\n",
            "Float value: 2.0\n",
            "Boolean value: True\n"
          ]
        }
      ]
    },
    {
      "cell_type": "code",
      "source": [
        "# 10)Write code to demonstrate type casting with list elements.\n",
        "\n",
        "# List with string numbers\n",
        "string_list = [\"10\", \"20\", \"30\", \"40\"]\n",
        "\n",
        "print(\"Original list (strings):\", string_list)\n",
        "\n",
        "# Convert to integers using loop\n",
        "int_list = []\n",
        "for item in string_list:\n",
        "    int_list.append(int(item))\n",
        "print(\"List after converting to integers:\", int_list)\n",
        "\n",
        "# Convert to floats using loop\n",
        "float_list = []\n",
        "for item in string_list:\n",
        "    float_list.append(float(item))\n",
        "print(\"List after converting to floats:\", float_list)\n",
        "\n",
        "# Convert integers back to strings using loop\n",
        "str_list = []\n",
        "for item in int_list:\n",
        "    str_list.append(str(item))\n",
        "print(\"List after converting integers to strings:\", str_list)"
      ],
      "metadata": {
        "colab": {
          "base_uri": "https://localhost:8080/"
        },
        "id": "3b3zCxHtbhZt",
        "outputId": "7b0b5a53-0593-48d1-caf3-64fc50d69f2f"
      },
      "execution_count": 9,
      "outputs": [
        {
          "output_type": "stream",
          "name": "stdout",
          "text": [
            "Original list (strings): ['10', '20', '30', '40']\n",
            "List after converting to integers: [10, 20, 30, 40]\n",
            "List after converting to floats: [10.0, 20.0, 30.0, 40.0]\n",
            "List after converting integers to strings: ['10', '20', '30', '40']\n"
          ]
        }
      ]
    },
    {
      "cell_type": "code",
      "source": [
        "# 11)Write a program that checks if a number is positive, negative, or zero.\n",
        "\n",
        "num = float(input(\"Enter a number: \"))\n",
        "if num > 0:\n",
        "    print(\"The number is Positive.\")\n",
        "elif num < 0:\n",
        "    print(\"The number is Negative.\")\n",
        "else:\n",
        "    print(\"The number is Zero.\")\n"
      ],
      "metadata": {
        "colab": {
          "base_uri": "https://localhost:8080/"
        },
        "id": "Y1TTJ_a1c2GB",
        "outputId": "1b6e992e-d33f-4501-f6e5-ef2190bc0ed0"
      },
      "execution_count": 10,
      "outputs": [
        {
          "output_type": "stream",
          "name": "stdout",
          "text": [
            "Enter a number: 2\n",
            "The number is Positive.\n"
          ]
        }
      ]
    },
    {
      "cell_type": "code",
      "source": [
        "# 12) Write a for loop to print numbers from 1 to 10\n",
        "\n",
        "for i in range(1,11):\n",
        "  print(i)"
      ],
      "metadata": {
        "colab": {
          "base_uri": "https://localhost:8080/"
        },
        "id": "HuzWh2LUdT_M",
        "outputId": "dd4cfc10-5398-4df6-ad88-57b96ce16cdd"
      },
      "execution_count": 12,
      "outputs": [
        {
          "output_type": "stream",
          "name": "stdout",
          "text": [
            "1\n",
            "2\n",
            "3\n",
            "4\n",
            "5\n",
            "6\n",
            "7\n",
            "8\n",
            "9\n",
            "10\n"
          ]
        }
      ]
    },
    {
      "cell_type": "code",
      "source": [
        "# 13)Write a Python program to find the sum of all even numbers between 1 and 50.\n",
        "sum=0\n",
        "for num in range(51):\n",
        "  if num % 2 == 0:\n",
        "    sum +=num\n",
        "print(f\"sum of all even numbers from 1 to 50 is {sum}\")"
      ],
      "metadata": {
        "colab": {
          "base_uri": "https://localhost:8080/"
        },
        "id": "Flv7uWMkeBcO",
        "outputId": "6b9454c3-20b0-49f8-c958-b6d8d70acd4d"
      },
      "execution_count": 16,
      "outputs": [
        {
          "output_type": "stream",
          "name": "stdout",
          "text": [
            "sum of all even numbers from 1 to 50 is 650\n"
          ]
        }
      ]
    },
    {
      "cell_type": "code",
      "source": [
        "# 14)Write a program to reverse a string using a while loop.\n",
        "\n",
        "user_string=input(\"Enter string:\")\n",
        "reverse_string=\"\"\n",
        "str_len=len(user_string)-1\n",
        "while str_len >= 0:\n",
        "  reverse_string+=user_string[str_len]\n",
        "  str_len -=1\n",
        "print(f\"Reverse string is {reverse_string}\")"
      ],
      "metadata": {
        "colab": {
          "base_uri": "https://localhost:8080/"
        },
        "id": "UUK_uitaggrt",
        "outputId": "9937a40d-be2c-44ed-e5d0-750db2362980"
      },
      "execution_count": 19,
      "outputs": [
        {
          "output_type": "stream",
          "name": "stdout",
          "text": [
            "Enter string:shreyash\n",
            "Reverse string is hsayerhs\n"
          ]
        }
      ]
    },
    {
      "cell_type": "code",
      "source": [
        "# 15)Write a Python program to calculate the factorial of a number provided by the user using a while loop.\n",
        "num = int(input(\"Enter a number: \"))\n",
        "\n",
        "factorial = 1\n",
        "i = 1\n",
        "\n",
        "while i <= num:\n",
        "    factorial *= i\n",
        "    i += 1\n",
        "\n",
        "print(f\"Factorial of {num} is {factorial}\")\n"
      ],
      "metadata": {
        "colab": {
          "base_uri": "https://localhost:8080/"
        },
        "id": "2wtteubdnu0C",
        "outputId": "5f8f297f-cb49-436d-bfb1-4b877022e6e8"
      },
      "execution_count": 20,
      "outputs": [
        {
          "output_type": "stream",
          "name": "stdout",
          "text": [
            "Enter a number: 5\n",
            "Factorial of 5 is 120\n"
          ]
        }
      ]
    }
  ]
}