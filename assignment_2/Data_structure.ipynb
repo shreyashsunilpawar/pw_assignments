{
  "nbformat": 4,
  "nbformat_minor": 0,
  "metadata": {
    "colab": {
      "provenance": []
    },
    "kernelspec": {
      "name": "python3",
      "display_name": "Python 3"
    },
    "language_info": {
      "name": "python"
    }
  },
  "cells": [
    {
      "cell_type": "markdown",
      "source": [
        "**Assignment 2: Data Types and Structures**"
      ],
      "metadata": {
        "id": "xv2l0mrdc9p5"
      }
    },
    {
      "cell_type": "markdown",
      "source": [
        "1.  What are data structures, and why are they important ?\n",
        "\n",
        ">>A data structure is a way of organizing, storing, and managing data so that it can be used efficiently. In Python, examples of data structures include lists, tuples, sets, dictionaries, stacks, queues, and trees. Each data structure provides different ways to access and manipulate data depending on the problem we are solving.\n",
        "\n",
        ">>Importance of Data Structure :\n",
        "\n",
        ">>>Improved Performance :Choosing the right data structure reduces time and memory usage.\n",
        "\n",
        ">>>Problem Solving: Many algorithms rely on specific data structures (e.g., graphs for networking problems, stacks for expression evaluation).\n",
        "\n",
        ">>>eusability and Organization: Data structures provide a clean way to organize code and make it reusable.\n",
        "\n",
        ">>>Foundation of Programming: They form the basis for advanced concepts like databases, operating systems, and machine learning."
      ],
      "metadata": {
        "id": "ZIYhwHkhdOJb"
      }
    },
    {
      "cell_type": "markdown",
      "source": [
        "2.  Explain the difference between mutable and immutable data types with examples\n",
        "\n",
        ">>Mutable Data Types:\n",
        ">>>\tDefinition: Mutable data types allow changes in their content (elements can be added, removed, or modified) without creating a new object in memory.\n",
        "\n",
        ">>>Example :list, dict, set\n",
        "\n",
        "\n",
        "\n",
        "```\n",
        "# Example of Mutable data type\n",
        "numbers = [1, 2, 3]\n",
        "numbers[0] = 10\n",
        "print(numbers)\n",
        "```\n",
        ">> Immutable:\n",
        ">>>Definition: Immutable data types do not allow changes in their content. If we try to modify them, a new object is created in memory.\n",
        ">>>Examples: int, float, str, tuple\n",
        "\n",
        "\n",
        "\n",
        "```\n",
        "# Example of immutable data type\n",
        "text = \"Hello\"\n",
        "text = text + \" World\"   # Creates a new string object\n",
        "print(text)              # Output: \"Hello World\"\n",
        "```\n",
        "\n",
        "\n",
        "\n",
        "\n",
        "\n"
      ],
      "metadata": {
        "id": "8eSen3mrdSue"
      }
    },
    {
      "cell_type": "markdown",
      "source": [
        "3.  What are the main differences between lists and tuples in Python ?\n",
        "\n",
        ">Difference bwtween List and tuple\n",
        ">1. Mutability:Lists are mutable (can be changed), while tuples are immutable (cannot be changed).\n",
        "\n",
        ">2. Syntax: List are created using square brackets [], whereas tuples are created using parentheses ().\n",
        "\n",
        "\n",
        ">3. Performance: Tuples are faster than lists because they are immutable, while lists are slightly slower.\n",
        "\n",
        "\n",
        ">4. Use Cases: Lists are used when data may need modification, whereas tuples are used when data should remain constant.\n",
        "\n",
        "\n",
        ">5. Methods Available: Lists provide more built-in methods like append() and remove(), but tuples have only a few methods such as count() and index().\n"
      ],
      "metadata": {
        "id": "6AkwDpD7dls6"
      }
    },
    {
      "cell_type": "markdown",
      "source": [
        "4.  Describe how dictionaries store data .\n",
        "\n",
        ">A dictionary is a built-in data structure that stores data in the form of key–value pairs. Each item in a dictionary has a unique key that acts as an identifier, and a corresponding value associated with that key.\n",
        "\n",
        ">Storage Mechanism:\n",
        "\n",
        ">>Dictionaries use a hashing technique internally. When a key is created, Python applies a hash function to it and stores the corresponding value at a specific location in memory. This makes searching, inserting, and deleting data very fast (on average O(1) time).\n",
        "\n",
        ">>Syntax: Defined using curly braces {} with key–value pairs separated by colons.\n",
        "\n",
        ">>\n",
        "\n",
        "```\n",
        "# Example of a dictionary\n",
        "student = {\n",
        "    \"name\": \"Shreyash\",\n",
        "    \"age\": 22,\n",
        "    \"course\": \"Computer Science\"\n",
        "}\n",
        "\n",
        "print(student[\"name\"])   # Output: Shreyash\n",
        "```\n"
      ],
      "metadata": {
        "id": "huFJIkRBdpKx"
      }
    },
    {
      "cell_type": "markdown",
      "source": [
        "5. Why might you use a set instead of a list in Python ?\n",
        "\n",
        ">A set in Python is an unordered collection of unique elements. While lists allow duplicates, sets automatically remove them and provide faster membership testing.\n",
        "\n",
        ">Reasons to use set instead of list :\n",
        "\n",
        ">1. Uniqueness: Sets automatically store only unique values, while lists can contain duplicates.\n",
        "\n",
        ">2. Faster Lookup: Checking if an item exists in a set is much faster (average O(1)) compared to a list (O(n)).\n",
        "\n",
        ">3. Efficient Operations: Sets support mathematical operations like union, intersection, and difference, which are not directly available in lists.\n",
        "\n",
        ">4. Cleaner Data: When you want to remove duplicates from a collection, converting it into a set is the easiest approach.\n",
        "\n",
        ">Example:\n",
        "\n",
        "```\n",
        "# Using a list\n",
        "numbers_list = [1, 2, 2, 3, 4, 4]\n",
        "print(numbers_list)      # Output: [1, 2, 2, 3, 4, 4]  \n",
        "\n",
        "# Using a set\n",
        "numbers_set = {1, 2, 2, 3, 4, 4}\n",
        "print(numbers_set)       # Output: {1, 2, 3, 4}\n",
        "```"
      ],
      "metadata": {
        "id": "7HBwUtnpdto2"
      }
    },
    {
      "cell_type": "markdown",
      "source": [
        "6. What is a string in Python, and how is it different from a list ?\n",
        "\n",
        ">String: A string is a sequence of characters. Python treats anything inside quotes as a string. This includes letters, numbers, and symbols. Python has no character data type so single character is a string of length 1.\n",
        "\n",
        ">String different from list:\n",
        ">>1. Data Type : A string stores only characters, while a list can store elements of any data type (numbers, strings, objects, etc.).\n",
        "\n",
        ">>2. Mutability : Strings are immutable, whereas lists are mutable .\n",
        "\n",
        ">>3. Element Type : Strings can contain only characters, but lists can have mixed data types.\n",
        "\n",
        ">>4. Modification : You cannot directly change a character in a string, but you can change, add, or remove elements in a list.\n",
        "\n",
        ">>5. Operations : Strings have text-specific methods (upper(), replace(), split()), while lists have collection-specific methods (append(), remove(), sort()).\n",
        "\n",
        ">>6. Representation : Strings are written inside quotes (' ', \" \"), while lists are written inside square brackets [ ].\n",
        "\n",
        ">>7. Usage : Strings are used for text data, while lists are used for storing a sequence of items."
      ],
      "metadata": {
        "id": "R-uGVzVbdwnm"
      }
    },
    {
      "cell_type": "markdown",
      "source": [
        "7. How do tuples ensure data integrity in Python ?\n",
        "\n",
        ">Tuples ensure data integrity in Python mainly because they are immutable.\n",
        "\n",
        ">Other reasons tuples ensure data integrity:\n",
        ">1. Prevents accidental changes : Since tuples can’t be modified, your data stays exactly as it was when created.\n",
        "\n",
        ">2. Reliable as constants : Tuples can store fixed data (like configuration values) that must remain the same throughout the program.\n",
        "\n",
        ">3. Safe for keys in dictionaries : Their immutability allows them to be used as dictionary keys or stored in sets without risk of being altered.\n",
        "\n",
        ">4. Predictable behavior : No unexpected changes in tuple data make debugging and tracking logic easier.\n",
        "\n",
        ">5. Thread-safety : In multi-threaded programs, immutable data structures like tuples reduce the chance of data corruption from concurrent modifications."
      ],
      "metadata": {
        "id": "taYSINv4dz4U"
      }
    },
    {
      "cell_type": "markdown",
      "source": [
        "8. What is a hash table, and how does it relate to dictionaries in Python ?\n",
        "\n",
        "> A hash table is a data structure that stores key–value pairs and uses a hash function to map each key to a specific index (bucket) in memory.\n",
        "\n",
        ">Relation of Hashtable to dictionaries :\n",
        "\n",
        ">>1. In Python, a dictionary (dict) is implemented using a hash table.\n",
        "\n",
        ">>2. Keys in a dictionary are hashed internally, and their hash values decide where the corresponding values are stored in memory.\n",
        "\n",
        ">>3. Only immutable and hashable objects can be used as dictionary keys.\n",
        "\n",
        ">>4. Hash tables let dictionaries perform very fast lookups, even with large amounts of data.\n",
        "\n",
        "\n",
        "\n",
        "```\n",
        "my_dict = {\"name\": \"Sakshi\", \"age\": 25}\n",
        "# \"name\" is hashed internally → value 25 stored at a memory bucket\n",
        "print(my_dict[\"name\"])  # Output: Alice\n",
        "\n",
        "```\n",
        "\n"
      ],
      "metadata": {
        "id": "IoNma-Rqd2yB"
      }
    },
    {
      "cell_type": "markdown",
      "source": [
        "9.  Can lists contain different data types in Python ?\n",
        "\n",
        ">Yes, lists in Python can contain different data types in the same list.\n",
        "\n",
        ">A list can hold integers, floats, strings, booleans, objects, even other lists — all mixed together.\n",
        "\n",
        ">This is possible because Python lists are dynamic and store references to objects, not fixed-type elements.\n",
        "\n",
        "\n",
        "\n",
        "```\n",
        "my_list = [10, \"Hello\", 3.14, True, [1, 2, 3]]\n",
        "print(my_list)\n",
        "```\n",
        "\n",
        "\n",
        "\n"
      ],
      "metadata": {
        "id": "J_ovm2rZd6gT"
      }
    },
    {
      "cell_type": "markdown",
      "source": [
        "10. Explain why strings are immutable in Python .\n",
        "\n",
        ">Reasons String are immutable:\n",
        "\n",
        ">1. Memory efficiency : Immutability allows Python to reuse identical string objects (string interning), saving memory.\n",
        "\n",
        ">2. Hash consistency : Strings must stay unchanged so their hash value remains constant when used as dictionary or set keys.\n",
        "\n",
        ">3. Thread-safety : Because strings can’t be modified, they can be shared between threads without risk of corruption.\n",
        "\n",
        ">4. Predictable behavior : Fixed, unchangeable strings prevent accidental changes, making code more reliable.\n",
        "\n",
        ">5. Performance optimization : Immutable strings can be stored and accessed in a way that speeds up certain operations."
      ],
      "metadata": {
        "id": "L1HksWxAd-Cx"
      }
    },
    {
      "cell_type": "markdown",
      "source": [
        "11. What advantages do dictionaries offer over lists for certain tasks ?\n",
        "\n",
        "> Advantages do dictionaries offer over lists for certain tasks are:\n",
        "\n",
        ">1. Faster lookups : Dictionaries provide average O(1) time complexity for accessing values by key, while lists take O(n) for searches.\n",
        "\n",
        ">2. Key-based access : You can access data using meaningful keys instead of relying on numeric indexes.\n",
        "\n",
        ">3. No need for manual searching : Values are retrieved directly by key without iterating through the entire collection.\n",
        "\n",
        ">4. Unordered but organized : Data is stored in a way that’s easy to manage when you care about associations rather than order.\n",
        "\n",
        ">5. Flexible keys and values : Keys can be any immutable type (string, number, tuple), and values can be any data type.\n",
        "\n",
        ">6. Clear mapping of data : Perfect for storing real-world data with a clear “label → value” relationship.\n",
        "\n",
        "```\n",
        "# List of [name, phone] pairs\n",
        "contacts_list = [[\"Alice\", \"1234\"], [\"Bob\", \"5678\"], [\"Charlie\", \"9101\"]]\n",
        "\n",
        "# Find Bob's number\n",
        "for name, phone in contacts_list:\n",
        "    if name == \"Bob\":\n",
        "        print(phone)  # Output: 5678\n",
        "        break\n",
        "```\n",
        "\n",
        "\n",
        "```\n",
        "# Dictionary of name: phone pairs\n",
        "contacts_dict = {\"Alice\": \"1234\", \"Bob\": \"5678\", \"Charlie\": \"9101\"}\n",
        "\n",
        "# Find Bob's number\n",
        "print(contacts_dict[\"Bob\"])  # Output: 5678\n",
        "```\n",
        "\n",
        "> Difference : Time Complexity of Dictionary is O(1) where as list is  O(n).\n",
        "\n",
        "\n"
      ],
      "metadata": {
        "id": "BKwlLNw6eBpL"
      }
    },
    {
      "cell_type": "markdown",
      "source": [
        "12. Describe a scenario where using a tuple would be preferable over a list.\n",
        "\n",
        ">Scenario:\n",
        ">>Storing fixed GPS coordinates of a city in a program.\n",
        "\n",
        "Example:\n",
        "```\n",
        "# Latitude and Longitude of New York\n",
        "new_york_coordinates = (40.7128, -74.0060)\n",
        "\n",
        "```\n",
        "\n",
        ">Why tuple is preferable:\n",
        ">1. The coordinates should never change during the program’s execution → tuples are immutable, ensuring data integrity.\n",
        "\n",
        ">2. Tuples can be used as dictionary keys if you need to store location-based data (lists cannot be keys).\n",
        "\n",
        ">3. Slightly faster than lists for access, making them efficient for fixed datasets."
      ],
      "metadata": {
        "id": "zLptD8MYeIVb"
      }
    },
    {
      "cell_type": "markdown",
      "source": [
        "13.  How do sets handle duplicate values in Python ?\n",
        "\n",
        ">Sets automatically remove duplicate values because they only store unique elements.\n",
        "\n",
        ">When you try to add a duplicate to a set, Python ignores it silently.\n",
        "\n",
        ">This is possible because sets use a hash table internally, where each element’s hash value must be unique.\n",
        "\n",
        "\n",
        "\n",
        "```\n",
        "my_set = {1, 2, 2, 3, 3, 3}\n",
        "print(my_set)\n",
        "```\n",
        "\n"
      ],
      "metadata": {
        "id": "1QGIk2NeeLYC"
      }
    },
    {
      "cell_type": "markdown",
      "source": [
        "14. How does the “in” keyword work differently for lists and dictionaries ?\n",
        "\n",
        ">The in keyword behaves differently for lists and dictionaries in Python:\n",
        "\n",
        ">1.For lists \"in\" checks if a value exists anywhere in the list.\n",
        "\n",
        "```\n",
        "numbers = [1, 2, 3, 4]\n",
        "print(3 in numbers)   #(checks values)\n",
        "print(5 in numbers)   \n",
        "\n",
        "```\n",
        ">2.For dictionaries – in checks if a key exists in the dictionary (not the value).\n",
        "\n",
        "```\n",
        "person = {\"name\": \"Alice\", \"age\": 25}\n",
        "print(\"name\" in person)   #  checks keys\n",
        "print(\"Alice\" in person)  # does not check values\n",
        "```\n",
        "\n",
        "\n"
      ],
      "metadata": {
        "id": "5VQZl_X2ePWB"
      }
    },
    {
      "cell_type": "markdown",
      "source": [
        "15. Can you modify the elements of a tuple? Explain why or why not .\n",
        "\n",
        ">No we cannot modify the elements of a tuple in Python.\n",
        "\n",
        ">Reason:\n",
        "\n",
        ">1. Tuples are immutable, meaning once they are created, their elements cannot be changed, added, or removed.\n",
        "\n",
        ">2. This immutability ensures data integrity, allows tuples to be used as dictionary keys or stored in sets, and makes them more memory-efficient and thread-safe.\n",
        "\n",
        "```\n",
        "t = (1, 2, 3)\n",
        "t[0] = 10 # TypeError: 'tuple' object does not support item assignment\n",
        "```\n",
        "\n"
      ],
      "metadata": {
        "id": "2UV2GsYReSuO"
      }
    },
    {
      "cell_type": "markdown",
      "source": [
        "16. What is a nested dictionary, and give an example of its use case ?\n",
        "\n",
        ">Nested Dictionary:\n",
        "\n",
        ">1. A nested dictionary is a dictionary that contains another dictionary as one or more of its values.\n",
        "\n",
        ">2. It’s used to store hierarchical or structured data in a compact, organized way.\n",
        "\n",
        "\n",
        "```\n",
        "# Example of usecase\n",
        "students = {\n",
        "    \"Alice\": {\"age\": 20, \"marks\": {\"Math\": 90, \"Science\": 85}},\n",
        "    \"Bob\": {\"age\": 22, \"marks\": {\"Math\": 78, \"Science\": 88}}\n",
        "}\n",
        "\n",
        "# Access Bob's Science marks\n",
        "print(students[\"Bob\"][\"marks\"][\"Science\"])  \n",
        "```\n",
        "\n",
        "\n"
      ],
      "metadata": {
        "id": "4o3ma24VeWCc"
      }
    },
    {
      "cell_type": "markdown",
      "source": [
        "17.  Describe the time complexity of accessing elements in a dictionary.\n",
        ">Accessing elements in a dictionary in Python has:\n",
        "\n",
        ">1. Average case: O(1) : Constant time, because dictionaries use a hash table for key lookups.\n",
        "\n",
        ">2. Worst case: O(n) : Happens rarely, only when many keys have the same hash value (hash collision) and Python has to search through them linearly.\n",
        "\n",
        "\n",
        "```\n",
        "person = {\"name\": \"Alice\", \"age\": 25}\n",
        "print(person[\"age\"])  # O(1) average time\n",
        "```\n",
        "\n"
      ],
      "metadata": {
        "id": "U53xiT1seZQS"
      }
    },
    {
      "cell_type": "markdown",
      "source": [
        "18. In what situations are lists preferred over dictionaries ?\n",
        "\n",
        ">Situations where lists are preferred over dictionaries:\n",
        "\n",
        ">1. Order matters : When you need to preserve and work with the sequence of elements.\n",
        "\n",
        ">2. No key-value mapping needed : When you only care about storing values, not associating them with unique keys.\n",
        "\n",
        ">3. Allow duplicates : When you need to store the same value multiple times.\n",
        "\n",
        ">4. Index-based access : When elements are best accessed by their position (index) rather than by a key.\n",
        "\n",
        ">5. Small datasets : For small collections where the speed benefit of a dictionary is negligible.\n",
        "\n",
        ">6. Iteration over values : When you want to loop through elements directly without worrying about keys.\n",
        "\n",
        "\n",
        "```\n",
        "fruits = [\"apple\", \"banana\", \"orange\", \"banana\"]\n",
        "print(fruits[1])\n",
        "```\n",
        "\n"
      ],
      "metadata": {
        "id": "nhMfFUaBedPV"
      }
    },
    {
      "cell_type": "markdown",
      "source": [
        "19. Why are dictionaries considered unordered, and how does that affect data retrieval ?\n",
        "\n",
        "> Dictionaries are considered unordered:\n",
        "\n",
        ">1. Before Python 3.7, dictionaries did not guarantee that elements would be stored or iterated in the order they were inserted.\n",
        "\n",
        ">2. This is because dictionaries are implemented using a hash table, where the storage location of each key-value pair depends on the key’s hash value, not its position.\n",
        "\n",
        ">Effect on data retrieval\n",
        "\n",
        ">1. Key-based retrieval is unaffected we can always access a value directly using its key in O(1) time, regardless of order.\n",
        "\n",
        ">2. However, iteration order was unpredictable in older versions of Python, meaning looping over a dictionary could produce elements in any sequence.\n",
        "\n",
        ">3. From Python 3.7+, insertion order is preserved as an implementation detail  but retrieval by key is still independent of order."
      ],
      "metadata": {
        "id": "pGazaS6Hfnr-"
      }
    },
    {
      "cell_type": "markdown",
      "source": [
        "20. Explain the difference between a list and a dictionary in terms of data retrieval.\n",
        "\n",
        ">Difference between a list and a dictionary in terms of data retrieval:\n",
        ">1. List : Retrieval is index-based\n",
        "\n",
        ">>We access elements using their position (0, 1, 2, …).\n",
        "\n",
        ">>Time complexity: O(1) for direct index access, but O(n) if you search for a value.\n",
        "\n",
        "\n",
        "```\n",
        "fruits = [\"apple\", \"banana\", \"cherry\"]\n",
        "print(fruits[1])\n",
        "```\n",
        "\n",
        ">2. Dictionary : Retrieval is key-based\n",
        "\n",
        ">>We access values using unique keys, not positions.\n",
        "\n",
        ">>Time complexity: O(1) on average because of hashing.\n",
        "\n",
        "\n",
        "\n",
        "```\n",
        "person = {\"name\": \"Alice\", \"age\": 25}\n",
        "print(person[\"age\"])\n",
        "```\n",
        "\n",
        "\n",
        "\n"
      ],
      "metadata": {
        "id": "Jxh4mXA_frp1"
      }
    },
    {
      "cell_type": "markdown",
      "source": [
        "**Practical Questions**"
      ],
      "metadata": {
        "id": "s6iPH3I1fvXv"
      }
    },
    {
      "cell_type": "code",
      "source": [
        "#1 Write a code to create a string with your name and print it\n",
        "\n",
        "name = \"Shreyash Pawar\"\n",
        "\n",
        "# Printing the string\n",
        "print(\"My name is:\", name)\n"
      ],
      "metadata": {
        "colab": {
          "base_uri": "https://localhost:8080/"
        },
        "id": "jHqWnjH2dIN_",
        "outputId": "193ea6fd-6563-4747-dd3c-22c705161e71"
      },
      "execution_count": 3,
      "outputs": [
        {
          "output_type": "stream",
          "name": "stdout",
          "text": [
            "My name is: Shreyash Pawar\n"
          ]
        }
      ]
    },
    {
      "cell_type": "code",
      "execution_count": 4,
      "metadata": {
        "colab": {
          "base_uri": "https://localhost:8080/"
        },
        "id": "Bk95tYEFc5dk",
        "outputId": "2f9fe7de-3112-42c8-e7ef-c259878131b8"
      },
      "outputs": [
        {
          "output_type": "stream",
          "name": "stdout",
          "text": [
            "Length of string is : 11\n"
          ]
        }
      ],
      "source": [
        "#2 Write a code to find the length of the string \"Hello World\"\n",
        "\n",
        "string=\"Hello World\"\n",
        "print(\"Length of string is :\",len(string))"
      ]
    },
    {
      "cell_type": "code",
      "source": [
        "#3 Write a code to slice the first 3 characters from the string \"Python Programming\"\n",
        "\n",
        "text = \"Python Programming\"\n",
        "print(\"First 3 characters:\", text[:3])"
      ],
      "metadata": {
        "colab": {
          "base_uri": "https://localhost:8080/"
        },
        "id": "L3tp60oyggKS",
        "outputId": "5f85b84f-1965-4ffb-f612-380afc834e24"
      },
      "execution_count": 5,
      "outputs": [
        {
          "output_type": "stream",
          "name": "stdout",
          "text": [
            "First 3 characters: Pyt\n"
          ]
        }
      ]
    },
    {
      "cell_type": "code",
      "source": [
        "#4 Write a code to convert the string \"hello\" to uppercase\n",
        "\n",
        "string=\"hello\"\n",
        "print(\"String in uppercase\",string.upper())"
      ],
      "metadata": {
        "colab": {
          "base_uri": "https://localhost:8080/"
        },
        "id": "g2AHkqXBgj5H",
        "outputId": "195b7136-aa2f-437b-effd-6310a61cd8a7"
      },
      "execution_count": null,
      "outputs": [
        {
          "output_type": "stream",
          "name": "stdout",
          "text": [
            "String in uppercase HELLO\n"
          ]
        }
      ]
    },
    {
      "cell_type": "code",
      "source": [
        "#5 Write a code to replace the word \"apple\" with \"orange\" in the string \"I like apple\"\n",
        "\n",
        "string=\"I like apple \"\n",
        "\n",
        "new_string=string.replace(\"apple\",\"orange\") #replacing the word apple --->orange\n",
        "\n",
        "print(\"String before replacement :\",string)\n",
        "print(\"String after replacemnt: \",new_string)"
      ],
      "metadata": {
        "colab": {
          "base_uri": "https://localhost:8080/"
        },
        "id": "nDnVVpwRgnEB",
        "outputId": "d25c6dd7-05b6-4da0-d27d-3cca0f7766c8"
      },
      "execution_count": null,
      "outputs": [
        {
          "output_type": "stream",
          "name": "stdout",
          "text": [
            "String before replacement : I like apple \n",
            "String after replacemnt:  I like orange \n"
          ]
        }
      ]
    },
    {
      "cell_type": "code",
      "source": [
        "#6 Write a code to create a list with numbers 1 to 5 and print it\n",
        "\n",
        "list=[] #empty list\n",
        "for i in range(1,6):\n",
        "  list.append(i) #appending elements\n",
        "print(\"List with number 1 to 5\",list)"
      ],
      "metadata": {
        "colab": {
          "base_uri": "https://localhost:8080/"
        },
        "id": "ok_Hm1tPgquJ",
        "outputId": "d94fd3e3-a2d7-47ff-956e-79d245e48afc"
      },
      "execution_count": null,
      "outputs": [
        {
          "output_type": "stream",
          "name": "stdout",
          "text": [
            "List with number 1 to 5 [1, 2, 3, 4, 5]\n"
          ]
        }
      ]
    },
    {
      "cell_type": "code",
      "source": [
        "#7 Write a code to append the number 10 to the list [1, 2, 3, 4]\n",
        "\n",
        "list=[1,2,3,4]\n",
        "print(\"List before appending 10 : \",list)\n",
        "\n",
        "list.append(10) #adding 10 to list\n",
        "\n",
        "print(\"List after appending 10 : \" ,list)"
      ],
      "metadata": {
        "colab": {
          "base_uri": "https://localhost:8080/"
        },
        "id": "90wiC2hjgtw0",
        "outputId": "89189a27-24b3-44a7-dfc0-048789ba0c6a"
      },
      "execution_count": null,
      "outputs": [
        {
          "output_type": "stream",
          "name": "stdout",
          "text": [
            "List before appending 10 :  [1, 2, 3, 4]\n",
            "List after appending 10 :  [1, 2, 3, 4, 10]\n"
          ]
        }
      ]
    },
    {
      "cell_type": "code",
      "source": [
        "#8 Write a code to remove the number 3 from the list [1, 2, 3, 4, 5]\n",
        "\n",
        "list=[1,2,3,4,5]\n",
        "print(\"List before removing 3 : \",list)\n",
        "\n",
        "list.remove(3) #remove 3 from list\n",
        "\n",
        "print(\"List after removing 3 : \" ,list)"
      ],
      "metadata": {
        "colab": {
          "base_uri": "https://localhost:8080/"
        },
        "id": "8mrqjxEpgx9C",
        "outputId": "e9df6828-979e-4317-f6e3-153deedfd047"
      },
      "execution_count": null,
      "outputs": [
        {
          "output_type": "stream",
          "name": "stdout",
          "text": [
            "List before removing :  [1, 2, 3, 4, 5]\n",
            "List after removing 3 :  [1, 2, 4, 5]\n"
          ]
        }
      ]
    },
    {
      "cell_type": "code",
      "source": [
        "#9 Write a code to access the second element in the list ['a', 'b', 'c', 'd']\n",
        "\n",
        "list=['a', 'b', 'c', 'd']\n",
        "\n",
        "'''acessing second element of list the indexing of list starts with 0 . Therefore element at index 1 is second elemnt of list '''\n",
        "second_element=list[1]\n",
        "\n",
        "print(\"The second element in the list :\",second_element)"
      ],
      "metadata": {
        "colab": {
          "base_uri": "https://localhost:8080/"
        },
        "id": "Dog7FcKyg19R",
        "outputId": "3c3dbac3-d4e7-465f-a99e-6e7470a3f713"
      },
      "execution_count": null,
      "outputs": [
        {
          "output_type": "stream",
          "name": "stdout",
          "text": [
            "The second element in the list : b\n"
          ]
        }
      ]
    },
    {
      "cell_type": "code",
      "source": [
        "#10  Write a code to reverse the list [10, 20, 30, 40, 50]\n",
        "\n",
        "list=[10, 20, 30, 40, 50]\n",
        "print(\"Orginal List\",list)\n",
        "\n",
        "print()\n",
        "\n",
        "#revrse inbuiltfunction\n",
        "list.reverse()\n",
        "print(\"Reversed list by reverse function \",list)\n",
        "print()"
      ],
      "metadata": {
        "colab": {
          "base_uri": "https://localhost:8080/"
        },
        "id": "CZkYA_iJg572",
        "outputId": "2d6589cc-32d0-48d6-8be8-f987e64a36a5"
      },
      "execution_count": 6,
      "outputs": [
        {
          "output_type": "stream",
          "name": "stdout",
          "text": [
            "Orginal List [10, 20, 30, 40, 50]\n",
            "\n",
            "Reversed list by reverse function  [50, 40, 30, 20, 10]\n",
            "\n"
          ]
        }
      ]
    },
    {
      "cell_type": "code",
      "source": [
        "#11 Write a code to create a tuple with the elements 100, 200, 300 and print it\n",
        "\n",
        "tuple=(100, 200, 300 )\n",
        "\n",
        "print(\"Tuple :\",tuple)"
      ],
      "metadata": {
        "id": "CIEcL26vg81-",
        "colab": {
          "base_uri": "https://localhost:8080/"
        },
        "outputId": "26d3fba6-790e-4179-f472-06b85fd06530"
      },
      "execution_count": null,
      "outputs": [
        {
          "output_type": "stream",
          "name": "stdout",
          "text": [
            "Tuple : (100, 200, 300)\n"
          ]
        }
      ]
    },
    {
      "cell_type": "code",
      "source": [
        "#12 Write a code to access the second-to-last element of the tuple ('red', 'green', 'blue', 'yellow')\n",
        "\n",
        "tuple=('red', 'green', 'blue', 'yellow')\n",
        "\n",
        "'''acessing second-to-last element of tuple the indexing of list starts with -1 from last . Therefore element at index -2 access the second-to-last element'''\n",
        "print(\"Accessing second-to-last element of tuple : \",tuple[-2])"
      ],
      "metadata": {
        "id": "5kCTdjychBK5",
        "colab": {
          "base_uri": "https://localhost:8080/"
        },
        "outputId": "2811b582-9ca2-493a-be56-4fb223b368d0"
      },
      "execution_count": null,
      "outputs": [
        {
          "output_type": "stream",
          "name": "stdout",
          "text": [
            "Accessing second-to-last element of tuple :  blue\n"
          ]
        }
      ]
    },
    {
      "cell_type": "code",
      "source": [
        "#13 Write a code to find the minimum number in the tuple (10, 20, 5, 15)\n",
        "\n",
        "tuple=(10, 20, 5, 15)\n",
        "print(\"Minimum value in the tuple :\",min(tuple)) # min inbuilt function"
      ],
      "metadata": {
        "id": "V6aMmlMzhFO-",
        "colab": {
          "base_uri": "https://localhost:8080/"
        },
        "outputId": "dae4b0fd-81a2-439b-bc5b-9fdb588dd228"
      },
      "execution_count": null,
      "outputs": [
        {
          "output_type": "stream",
          "name": "stdout",
          "text": [
            "Minimum value in the tuple : 5\n"
          ]
        }
      ]
    },
    {
      "cell_type": "code",
      "source": [
        "#14 Write a code to find the index of the element \"cat\" in the tuple ('dog', 'cat', 'rabbit')\n",
        "\n",
        "tuple=('dog', 'cat', 'rabbit')\n",
        "print(\"index of the cat :\",tuple.index(\"cat\")) #index fetch the index of elements"
      ],
      "metadata": {
        "id": "M4lAyvnahIaY",
        "colab": {
          "base_uri": "https://localhost:8080/"
        },
        "outputId": "6461fce8-e693-4038-8ba9-b7c582b20837"
      },
      "execution_count": null,
      "outputs": [
        {
          "output_type": "stream",
          "name": "stdout",
          "text": [
            "index of the cat : 1\n"
          ]
        }
      ]
    },
    {
      "cell_type": "code",
      "source": [
        "#15 Write a code to create a tuple containing three different fruits and check if \"kiwi\" is in it\n",
        "\n",
        "tuple1 = (\"banana\" , \"peaches\", \"apple\")\n",
        "tuple2= (\"buleberry\" , \"kiwi\", \"grapes\" )\n",
        "\n",
        "result1= \"kiwi\" in tuple1\n",
        "result2= \"kiwi\" in tuple2\n",
        "\n",
        "print(\"Tuple1 contain kiwi :\",result1)\n",
        "print(\"Tuple2 contain kiwi :\",result2)"
      ],
      "metadata": {
        "id": "SlZmhZVKhRo4",
        "colab": {
          "base_uri": "https://localhost:8080/"
        },
        "outputId": "f1b90709-37dc-49d3-d3f5-dccb0c6bd320"
      },
      "execution_count": null,
      "outputs": [
        {
          "output_type": "stream",
          "name": "stdout",
          "text": [
            "Tuple1 contain kiwi : False\n",
            "Tuple2 contain kiwi : True\n"
          ]
        }
      ]
    },
    {
      "cell_type": "code",
      "source": [
        "#16  Write a code to create a set with the elements 'a', 'b', 'c' and print it\n",
        "\n",
        "set={\"a\",\"b\",\"c\"}\n",
        "\n",
        "print(\"Set\",set)"
      ],
      "metadata": {
        "id": "dPfkcq4IhOkd",
        "colab": {
          "base_uri": "https://localhost:8080/"
        },
        "outputId": "c61028d0-9bb8-4942-fcc6-4bc06af9c6b8"
      },
      "execution_count": null,
      "outputs": [
        {
          "output_type": "stream",
          "name": "stdout",
          "text": [
            "Set {'c', 'a', 'b'}\n"
          ]
        }
      ]
    },
    {
      "cell_type": "code",
      "source": [
        "#17 Write a code to clear all elements from the set {1, 2, 3, 4, 5}.\n",
        "\n",
        "set={1, 2, 3, 4, 5}\n",
        "print(\"Before clearing the set: \" ,set)\n",
        "\n",
        "#clear it empty the set\n",
        "set=set.clear()\n",
        "print(\"After clearing the set: \",set)"
      ],
      "metadata": {
        "id": "HHugR2_BhZRh",
        "colab": {
          "base_uri": "https://localhost:8080/"
        },
        "outputId": "5064cbb0-ae7c-496b-9670-9ebf96d99d26"
      },
      "execution_count": null,
      "outputs": [
        {
          "output_type": "stream",
          "name": "stdout",
          "text": [
            "Before clearing the set:  {1, 2, 3, 4, 5}\n",
            "After clearing the set:  None\n"
          ]
        }
      ]
    },
    {
      "cell_type": "code",
      "source": [
        "#18  Write a code to remove the element 4 from the set {1, 2, 3, 4}.\n",
        "\n",
        "my_set = {1, 2, 3, 4}\n",
        "print(\"Before removing 4 from the set:\", my_set)\n",
        "\n",
        "# remove the element\n",
        "my_set.remove(4)\n",
        "\n",
        "print(\"After removing 4 from the set:\", my_set)"
      ],
      "metadata": {
        "id": "q-CajeKPhb7f",
        "colab": {
          "base_uri": "https://localhost:8080/"
        },
        "outputId": "4513a21a-2188-4ade-daf0-2887c89a152d"
      },
      "execution_count": null,
      "outputs": [
        {
          "output_type": "stream",
          "name": "stdout",
          "text": [
            "Before removing 4 from the set: {1, 2, 3, 4}\n",
            "After removing 4 from the set: {1, 2, 3}\n"
          ]
        }
      ]
    },
    {
      "cell_type": "code",
      "source": [
        "#19 Write a code to find the union of two sets {1, 2, 3} and {3, 4, 5}\n",
        "\n",
        "set1={1, 2, 3}\n",
        "set2={3, 4, 5}\n",
        "\n",
        "#using union function  returns unquie element of set\n",
        "print(\"Union of set with union fuction :\",set1.union(set2))\n",
        "\n",
        "# union with \"| \"\n",
        "print(\"Union of set with '|':\",set1|set2)"
      ],
      "metadata": {
        "id": "V04YM0nohef7",
        "colab": {
          "base_uri": "https://localhost:8080/"
        },
        "outputId": "c7d65ed0-dfeb-411a-8dd6-15075e1e971a"
      },
      "execution_count": null,
      "outputs": [
        {
          "output_type": "stream",
          "name": "stdout",
          "text": [
            "Union of set with union fuction : {1, 2, 3, 4, 5}\n",
            "Union of set with '|': {1, 2, 3, 4, 5}\n"
          ]
        }
      ]
    },
    {
      "cell_type": "code",
      "source": [
        "#20  Write a code to find the intersection of two sets {1, 2, 3} and {2, 3, 4}\n",
        "\n",
        "set1={1, 2, 3}\n",
        "set2={2, 3, 4}\n",
        "\n",
        "#using intersection function  returns common element of set\n",
        "print(\"Intersection of set with intersection function :\",set1.intersection(set2))\n",
        "\n",
        "# Intersection with \"& \"\n",
        "print(\"Intersection of set with '&' :\",set1&set2)"
      ],
      "metadata": {
        "id": "edMC5N4whhPF",
        "colab": {
          "base_uri": "https://localhost:8080/"
        },
        "outputId": "4c6f6e1e-1f3f-429a-cb81-4d2b2e7c3301"
      },
      "execution_count": null,
      "outputs": [
        {
          "output_type": "stream",
          "name": "stdout",
          "text": [
            "Intersection of set with intersection function : {2, 3}\n",
            "Intersection of set with '&' : {2, 3}\n"
          ]
        }
      ]
    },
    {
      "cell_type": "code",
      "source": [
        "#21  Write a code to create a dictionary with the keys \"name\", \"age\", and \"city\", and print it\n",
        "\n",
        "my_dictionary={\"name\":\"Sakshi\",\"age\":\"21\",\"city\":\"nagpur\"}\n",
        "print(\"Dictionary :\",my_dictionary)"
      ],
      "metadata": {
        "id": "XcgURs3xhk7r",
        "colab": {
          "base_uri": "https://localhost:8080/"
        },
        "outputId": "ce759bf0-09aa-432a-8af7-1ea1c58431e3"
      },
      "execution_count": null,
      "outputs": [
        {
          "output_type": "stream",
          "name": "stdout",
          "text": [
            "Dictionary : {'name': 'Sakshi', 'age': '21', 'city': 'nagpur'}\n"
          ]
        }
      ]
    },
    {
      "cell_type": "code",
      "source": [
        "#22 Write a code to add a new key-value pair \"country\": \"USA\" to the dictionary {'name': 'John', 'age': 25}\n",
        "\n",
        "my_dictionary={'name': 'John', 'age': 25}\n",
        "print(\"Dictionary before adding new key-value pair :\",my_dictionary)\n",
        "my_dictionary[\"country\"] = \"USA\" #adding element\n",
        "print(\"Dictionary after adding new key-value pair :\",my_dictionary)"
      ],
      "metadata": {
        "id": "PO5FtDMqhoFV",
        "colab": {
          "base_uri": "https://localhost:8080/"
        },
        "outputId": "27c244a4-0c25-432b-cee6-2caef64e9bd6"
      },
      "execution_count": null,
      "outputs": [
        {
          "output_type": "stream",
          "name": "stdout",
          "text": [
            "Dictionary before adding new key-value pair : {'name': 'John', 'age': 25}\n",
            "Dictionary after adding new key-value pair : {'name': 'John', 'age': 25, 'country': 'USA'}\n"
          ]
        }
      ]
    },
    {
      "cell_type": "code",
      "source": [
        "#23 Write a code to access the value associated with the key \"name\" in the dictionary {'name': 'Alice', 'age': 30}\n",
        "\n",
        "my_dictionary={'name': 'Alice', 'age': 30}\n",
        "print(\"The value associated with keyword name :\",my_dictionary.get(\"name\")) #accessing the value associated with the key \"name\""
      ],
      "metadata": {
        "id": "CzQcSl_hhrHO",
        "colab": {
          "base_uri": "https://localhost:8080/"
        },
        "outputId": "142f8328-451a-4f5c-9856-af40b744996a"
      },
      "execution_count": null,
      "outputs": [
        {
          "output_type": "stream",
          "name": "stdout",
          "text": [
            "The value associated with keyword name : Alice\n"
          ]
        }
      ]
    },
    {
      "cell_type": "code",
      "source": [
        "# Write a code to remove the key \"age\" from the dictionary {'name': 'Bob', 'age': 22, 'city': 'New York'}\n",
        "\n",
        "my_dict={'name': 'Bob', 'age': 22, 'city': 'New York'}\n",
        "print(\"Before removing age :\",my_dict)\n",
        "\n",
        "# removing age\n",
        "my_dict.pop(\"age\")\n",
        "print(\"After removing age :\",my_dict)"
      ],
      "metadata": {
        "id": "A7rZyr3PhvAy",
        "colab": {
          "base_uri": "https://localhost:8080/"
        },
        "outputId": "7fbf56c8-506c-4f3a-8054-33e23e4b5f0c"
      },
      "execution_count": null,
      "outputs": [
        {
          "output_type": "stream",
          "name": "stdout",
          "text": [
            "Before removing age : {'name': 'Bob', 'age': 22, 'city': 'New York'}\n",
            "After removing age : {'name': 'Bob', 'city': 'New York'}\n"
          ]
        }
      ]
    },
    {
      "cell_type": "code",
      "source": [
        "#25 Write a code to check if the key \"city\" exists in the dictionary {'name': 'Alice', 'city': 'Paris'}.\n",
        "\n",
        "my_dict={'name': 'Alice', 'city': 'Paris'}\n",
        "\n",
        "if \"city\" in my_dict.keys():\n",
        "  print(\"Dictionary contain city\")\n",
        "else:\n",
        "  print(\"False\")\n"
      ],
      "metadata": {
        "id": "nLcmSg_Ihy8d",
        "colab": {
          "base_uri": "https://localhost:8080/"
        },
        "outputId": "c0fb5e1a-1bf7-48b1-dbd9-7dc713e4744a"
      },
      "execution_count": null,
      "outputs": [
        {
          "output_type": "stream",
          "name": "stdout",
          "text": [
            "Dictionary contain city\n"
          ]
        }
      ]
    },
    {
      "cell_type": "code",
      "source": [
        "#26 Write a code to create a list, a tuple, and a dictionary, and print them all.\n",
        "\n",
        "my_list=[1,2,4,\"hello\",False,True]\n",
        "my_tuple=(5,3,6)\n",
        "my_dict={'name': 'Alice', 'city': 'Paris'}\n",
        "\n",
        "print(f\"my_list :{my_list} and type is {type(my_list)}\")\n",
        "print()\n",
        "print(f\"my_tuple :{my_tuple} and type is {type(my_tuple)}\")\n",
        "print()\n",
        "print(f\"my_dict :{my_dict} and type is {type(my_dict)}\")"
      ],
      "metadata": {
        "id": "wpAnVm53h13s",
        "colab": {
          "base_uri": "https://localhost:8080/"
        },
        "outputId": "6cd80207-74ad-41b8-9d4b-af4a248df60d"
      },
      "execution_count": null,
      "outputs": [
        {
          "output_type": "stream",
          "name": "stdout",
          "text": [
            "my_list :[1, 2, 4, 'hello', False, True] and type is <class 'list'>\n",
            "\n",
            "my_tuple :(5, 3, 6) and type is <class 'tuple'>\n",
            "\n",
            "my_dict :{'name': 'Alice', 'city': 'Paris'} and type is <class 'dict'>\n"
          ]
        }
      ]
    },
    {
      "cell_type": "code",
      "source": [
        "#27 Write a code to create a list of 5 random numbers between 1 and 100, sort it in ascending order, and print the result .(replaced)\n",
        "\n",
        "import random\n",
        "\n",
        "# List with random 5 numbers\n",
        "random_numbers = random.sample(range(1, 101), 5)\n",
        "print(\"list before sorting :\",random_numbers)\n",
        "\n",
        "# sort function sort the list in ascending order\n",
        "random_numbers.sort()\n",
        "\n",
        "\n",
        "print(\"Sorted random numbers:\", random_numbers)"
      ],
      "metadata": {
        "id": "W78FAPHSh48-",
        "colab": {
          "base_uri": "https://localhost:8080/"
        },
        "outputId": "1a8e1354-f4b0-4ba9-aa22-8949912531ac"
      },
      "execution_count": null,
      "outputs": [
        {
          "output_type": "stream",
          "name": "stdout",
          "text": [
            "list before sorting : [66, 74, 9, 55, 7]\n",
            "Sorted random numbers: [7, 9, 55, 66, 74]\n"
          ]
        }
      ]
    },
    {
      "cell_type": "code",
      "source": [
        "#28 Write a code to create a list with strings and print the element at the third index\n",
        "\n",
        "my_list = [\"apple\", \"banana\", \"cherry\", \"date\", \"blueberry\"]\n",
        "print(\"Element at index 3:\", my_list[3])"
      ],
      "metadata": {
        "id": "WId1uBlph1xx"
      },
      "execution_count": null,
      "outputs": []
    },
    {
      "cell_type": "code",
      "source": [
        "#29  Write a code to combine two dictionaries into one and print the result.\n",
        "\n",
        "dict1={'name': 'Shreyash', 'roll_no': 21}\n",
        "dict2 ={'age':22,'Std':7}\n",
        "\n",
        "print(\"Dict 1 : \",dict1)\n",
        "print(\"Dict 2 : \",dict2)\n",
        "print()\n",
        "# update function extend or combine the list\n",
        "dict1.update(dict2)\n",
        "\n",
        "print(\"Dictionary 1 after combing both dictionary :\" , dict1)"
      ],
      "metadata": {
        "id": "Gi5s2E-miDtt",
        "colab": {
          "base_uri": "https://localhost:8080/"
        },
        "outputId": "61743409-b2c2-4639-8167-fe084903a560"
      },
      "execution_count": 2,
      "outputs": [
        {
          "output_type": "stream",
          "name": "stdout",
          "text": [
            "Dict 1 :  {'name': 'Shreyash', 'roll_no': 21}\n",
            "Dict 2 :  {'age': 22, 'Std': 7}\n",
            "\n",
            "Dictionary 1 after combing both dictionary : {'name': 'Shreyash', 'roll_no': 21, 'age': 22, 'Std': 7}\n"
          ]
        }
      ]
    },
    {
      "cell_type": "code",
      "source": [
        "#30 Write a code to convert a list of strings into a set.\n",
        "\n",
        "my_list=[\"Shreyash\",\"Athrav\",\"Ravi\",\"Om\" ,\"Pratik\",\"Rohit\"]\n",
        "s=set(my_list)\n",
        "\n",
        "print(\"List :\",my_list)\n",
        "print()\n",
        "print(\"List after converted into set\",s)"
      ],
      "metadata": {
        "id": "fu1UPurqiHAQ",
        "colab": {
          "base_uri": "https://localhost:8080/"
        },
        "outputId": "9727beaa-190f-4f1e-c860-c7a2b15d1dc7"
      },
      "execution_count": 1,
      "outputs": [
        {
          "output_type": "stream",
          "name": "stdout",
          "text": [
            "List : ['Shreyash', 'Athrav', 'Ravi', 'Om', 'Pratik', 'Rohit']\n",
            "\n",
            "List after converted into set {'Rohit', 'Shreyash', 'Ravi', 'Athrav', 'Pratik', 'Om'}\n"
          ]
        }
      ]
    }
  ]
}