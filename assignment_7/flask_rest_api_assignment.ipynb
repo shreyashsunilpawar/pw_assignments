{
  "cells": [
    {
      "cell_type": "markdown",
      "id": "e733a34d",
      "metadata": {
        "id": "e733a34d"
      },
      "source": [
        "## What is a RESTful API\n",
        "\n",
        "**Answer:**\n",
        "\n",
        "A RESTful API is an API that follows the principles of Representational State Transfer (REST). It uses HTTP methods like GET, POST, PUT, DELETE to perform operations on resources, which are represented in formats like JSON or XML."
      ]
    },
    {
      "cell_type": "markdown",
      "id": "080009f5",
      "metadata": {
        "id": "080009f5"
      },
      "source": [
        "## Explain the concept of API specification\n",
        "\n",
        "**Answer:**\n",
        "\n",
        "An API specification is a detailed document or standard (like OpenAPI/Swagger) that describes how an API works. It defines endpoints, request/response formats, authentication, parameters, and error codes. It helps developers understand how to use the API correctly."
      ]
    },
    {
      "cell_type": "markdown",
      "id": "ce9f5ea4",
      "metadata": {
        "id": "ce9f5ea4"
      },
      "source": [
        "## What is Flask, and why is it popular for building APIs\n",
        "\n",
        "**Answer:**\n",
        "\n",
        "Flask is a lightweight Python web framework. It is popular because it is simple, flexible, and easy to use. Developers can quickly build APIs with minimal setup, and it has extensions for databases, authentication, and RESTful APIs."
      ]
    },
    {
      "cell_type": "markdown",
      "id": "2af207dd",
      "metadata": {
        "id": "2af207dd"
      },
      "source": [
        "## What is routing in Flask\n",
        "\n",
        "**Answer:**\n",
        "\n",
        "Routing in Flask is the process of mapping URLs to specific functions in your code. Each route corresponds to a path in the application (e.g., `/home`)."
      ]
    },
    {
      "cell_type": "markdown",
      "id": "c42fbb29",
      "metadata": {
        "id": "c42fbb29"
      },
      "source": [
        "## How do you create a simple Flask application\n",
        "\n",
        "**Answer:**\n",
        "\n",
        "First import Flask, create an instance of it, define routes using decorators, and then run the app."
      ]
    },
    {
      "cell_type": "code",
      "execution_count": null,
      "id": "d5a1fb02",
      "metadata": {
        "colab": {
          "base_uri": "https://localhost:8080/"
        },
        "id": "d5a1fb02",
        "outputId": "587c78bc-904e-4b3c-e968-af45ba645d2a"
      },
      "outputs": [
        {
          "output_type": "stream",
          "name": "stdout",
          "text": [
            " * Serving Flask app '__main__'\n",
            " * Debug mode: on\n"
          ]
        },
        {
          "output_type": "stream",
          "name": "stderr",
          "text": [
            "INFO:werkzeug:\u001b[31m\u001b[1mWARNING: This is a development server. Do not use it in a production deployment. Use a production WSGI server instead.\u001b[0m\n",
            " * Running on http://127.0.0.1:5000\n",
            "INFO:werkzeug:\u001b[33mPress CTRL+C to quit\u001b[0m\n",
            "INFO:werkzeug: * Restarting with watchdog (inotify)\n"
          ]
        }
      ],
      "source": [
        "#Example code\n",
        "from flask import Flask\n",
        "app = Flask(__name__)\n",
        "\n",
        "@app.route('/')\n",
        "def home():\n",
        "    return \"Hello, Flask!\"\n",
        "\n",
        "if __name__ == \"__main__\":\n",
        "    app.run(debug=True)\n"
      ]
    },
    {
      "cell_type": "markdown",
      "id": "9d20fd60",
      "metadata": {
        "id": "9d20fd60"
      },
      "source": [
        "## What are HTTP methods used in RESTful APIs\n",
        "\n",
        "**Answer:**\n",
        "\n",
        "The main HTTP methods are:\n",
        "- GET: Retrieve data\n",
        "- POST: Create new data\n",
        "- PUT: Update existing data\n",
        "- DELETE: Remove data\n",
        "- PATCH: Partially update data"
      ]
    },
    {
      "cell_type": "markdown",
      "id": "f37683fb",
      "metadata": {
        "id": "f37683fb"
      },
      "source": [
        "## What is the purpose of the @app.route() decorator in Flask\n",
        "\n",
        "**Answer:**\n",
        "\n",
        "The @app.route() decorator is used to define URL paths for functions. It binds a URL to a view function so that when a user visits that URL, Flask executes the function."
      ]
    },
    {
      "cell_type": "markdown",
      "id": "dd22b567",
      "metadata": {
        "id": "dd22b567"
      },
      "source": [
        "## What is the difference between GET and POST HTTP methods\n",
        "\n",
        "**Answer:**\n",
        "\n",
        "GET is used to request data from a server, and parameters are passed in the URL. POST is used to send data to a server (e.g., form submissions), and data is included in the request body."
      ]
    },
    {
      "cell_type": "code",
      "execution_count": null,
      "id": "d18325d3",
      "metadata": {
        "id": "d18325d3"
      },
      "outputs": [],
      "source": [
        "\n",
        "from flask import request\n",
        "\n",
        "@app.route('/submit', methods=['GET', 'POST'])\n",
        "def submit():\n",
        "    if request.method == 'POST':\n",
        "        data = request.form.get('name')\n",
        "        return f\"Received POST data: {data}\"\n",
        "    return \"Send data using POST method\"\n"
      ]
    },
    {
      "cell_type": "markdown",
      "id": "e581b515",
      "metadata": {
        "id": "e581b515"
      },
      "source": [
        "## How do you handle errors in Flask APIs\n",
        "\n",
        "**Answer:**\n",
        "\n",
        "You can use Flask's `@app.errorhandler` decorator to catch and return custom error responses (e.g., 404 Not Found, 500 Internal Server Error)."
      ]
    },
    {
      "cell_type": "code",
      "execution_count": null,
      "id": "7636db0b",
      "metadata": {
        "id": "7636db0b"
      },
      "outputs": [],
      "source": [
        "\n",
        "@app.errorhandler(404)\n",
        "def not_found(e):\n",
        "    return \"Page not found!\", 404\n"
      ]
    },
    {
      "cell_type": "markdown",
      "id": "7ebde1db",
      "metadata": {
        "id": "7ebde1db"
      },
      "source": [
        "## How do you connect Flask to a SQL database\n",
        "\n",
        "**Answer:**\n",
        "\n",
        "You can use libraries like Flask-SQLAlchemy or raw SQL connectors. Flask-SQLAlchemy provides an ORM layer to interact with databases easily."
      ]
    },
    {
      "cell_type": "markdown",
      "id": "a0df6b61",
      "metadata": {
        "id": "a0df6b61"
      },
      "source": [
        "## What is the role of Flask-SQLAlchemy\n",
        "\n",
        "**Answer:**\n",
        "\n",
        "Flask-SQLAlchemy integrates SQLAlchemy (a Python ORM) with Flask. It allows developers to interact with databases using Python classes and objects instead of writing raw SQL queries."
      ]
    },
    {
      "cell_type": "markdown",
      "id": "cef2dc84",
      "metadata": {
        "id": "cef2dc84"
      },
      "source": [
        "## What are Flask blueprints, and how are they useful\n",
        "\n",
        "**Answer:**\n",
        "\n",
        "Blueprints allow modular organization of a Flask app. They help group routes, templates, and static files into reusable components, making large applications easier to maintain."
      ]
    },
    {
      "cell_type": "markdown",
      "id": "1eafd870",
      "metadata": {
        "id": "1eafd870"
      },
      "source": [
        "## What is the purpose of Flask's request object\n",
        "\n",
        "**Answer:**\n",
        "\n",
        "The request object gives access to incoming request data such as form inputs, query parameters, headers, and JSON data."
      ]
    },
    {
      "cell_type": "markdown",
      "id": "181750f9",
      "metadata": {
        "id": "181750f9"
      },
      "source": [
        "## How do you create a RESTful API endpoint using Flask\n",
        "\n",
        "**Answer:**\n",
        "\n",
        "Define a route with @app.route() and specify methods like GET/POST. Inside the function, return JSON responses using jsonify()."
      ]
    },
    {
      "cell_type": "markdown",
      "id": "577655ba",
      "metadata": {
        "id": "577655ba"
      },
      "source": [
        "## What is the purpose of Flask's jsonify() function\n",
        "\n",
        "**Answer:**\n",
        "\n",
        "The jsonify() function converts Python dictionaries/lists into JSON responses with correct content-type headers."
      ]
    },
    {
      "cell_type": "code",
      "execution_count": null,
      "id": "1c0eba4e",
      "metadata": {
        "id": "1c0eba4e"
      },
      "outputs": [],
      "source": [
        "\n",
        "from flask import jsonify\n",
        "\n",
        "@app.route('/api/data')\n",
        "def get_data():\n",
        "    return jsonify({\"message\": \"Hello, JSON!\"})\n"
      ]
    },
    {
      "cell_type": "markdown",
      "id": "dbe857fb",
      "metadata": {
        "id": "dbe857fb"
      },
      "source": [
        "## Explain Flask’s url_for() function\n",
        "\n",
        "**Answer:**\n",
        "\n",
        "The url_for() function generates URLs for routes dynamically. Instead of hardcoding links, we can use url_for('function_name')."
      ]
    },
    {
      "cell_type": "code",
      "execution_count": null,
      "id": "17ed9765",
      "metadata": {
        "id": "17ed9765"
      },
      "outputs": [],
      "source": [
        "\n",
        "from flask import url_for\n",
        "\n",
        "@app.route('/about')\n",
        "def about():\n",
        "    return f\"Go back to home: {url_for('home')}\"\n"
      ]
    },
    {
      "cell_type": "markdown",
      "id": "19a1faa2",
      "metadata": {
        "id": "19a1faa2"
      },
      "source": [
        "## How does Flask handle static files (CSS, JavaScript, etc.)\n",
        "\n",
        "**Answer:**\n",
        "\n",
        "Flask automatically serves static files placed in a folder named `static/`. we can access them with `/static/filename`."
      ]
    },
    {
      "cell_type": "markdown",
      "id": "dac62e69",
      "metadata": {
        "id": "dac62e69"
      },
      "source": [
        "## What is an API specification, and how does it help in building a Flask API\n",
        "\n",
        "**Answer:**\n",
        "\n",
        "An API specification defines how the API should behave. It helps developers build and consume APIs consistently by providing clear documentation of endpoints, parameters, and responses."
      ]
    },
    {
      "cell_type": "markdown",
      "id": "b7281c8b",
      "metadata": {
        "id": "b7281c8b"
      },
      "source": [
        "## What are HTTP status codes, and why are they important in a Flask API\n",
        "\n",
        "**Answer:**\n",
        "\n",
        "HTTP status codes indicate the result of an API request (e.g., 200 OK, 404 Not Found, 500 Internal Server Error). They are important for clients to understand the success or failure of requests."
      ]
    },
    {
      "cell_type": "markdown",
      "id": "b357d61a",
      "metadata": {
        "id": "b357d61a"
      },
      "source": [
        "## How do you handle POST requests in Flask\n",
        "\n",
        "**Answer:**\n",
        "\n",
        "You can define routes with `methods=['POST']` and access request data using request.form or request.json."
      ]
    },
    {
      "cell_type": "code",
      "execution_count": null,
      "id": "2bf1f227",
      "metadata": {
        "id": "2bf1f227"
      },
      "outputs": [],
      "source": [
        "\n",
        "from flask import request\n",
        "\n",
        "@app.route('/submit', methods=['GET', 'POST'])\n",
        "def submit():\n",
        "    if request.method == 'POST':\n",
        "        data = request.form.get('name')\n",
        "        return f\"Received POST data: {data}\"\n",
        "    return \"Send data using POST method\"\n"
      ]
    },
    {
      "cell_type": "markdown",
      "id": "a0ec6de5",
      "metadata": {
        "id": "a0ec6de5"
      },
      "source": [
        "## How would you secure a Flask API\n",
        "\n",
        "**Answer:**\n",
        "\n",
        "You can secure APIs using authentication (JWT, OAuth), HTTPS, input validation, rate limiting, and proper error handling."
      ]
    },
    {
      "cell_type": "markdown",
      "id": "9068e5b0",
      "metadata": {
        "id": "9068e5b0"
      },
      "source": [
        "## What is the significance of the Flask-RESTful extension\n",
        "\n",
        "**Answer:**\n",
        "\n",
        "Flask-RESTful is an extension that simplifies building REST APIs in Flask. It provides tools like Resource classes and request parsing."
      ]
    },
    {
      "cell_type": "markdown",
      "id": "db6ef356",
      "metadata": {
        "id": "db6ef356"
      },
      "source": [
        "## What is the role of Flask’s session object?\n",
        "\n",
        "**Answer:**\n",
        "\n",
        "The session object stores user-specific data across requests (e.g., login sessions). Data is stored on the client in a secure, signed cookie."
      ]
    },
    {
      "cell_type": "markdown",
      "id": "47430612",
      "metadata": {
        "id": "47430612"
      },
      "source": [
        "## How do you create a basic Flask application\n",
        "\n",
        "**Answer:**\n",
        "\n",
        "We import Flask, create an instance, define a route, and run the server. (See code example below)."
      ]
    },
    {
      "cell_type": "code",
      "execution_count": null,
      "id": "03f343bd",
      "metadata": {
        "id": "03f343bd"
      },
      "outputs": [],
      "source": [
        "\n",
        "from flask import Flask\n",
        "app = Flask(__name__)\n",
        "\n",
        "@app.route('/')\n",
        "def home():\n",
        "    return \"Hello, Flask!\"\n",
        "\n",
        "if __name__ == \"__main__\":\n",
        "    app.run(debug=True)\n"
      ]
    },
    {
      "cell_type": "markdown",
      "id": "d81b961a",
      "metadata": {
        "id": "d81b961a"
      },
      "source": [
        "## How do you serve static files like images or CSS in Flask\n",
        "\n",
        "**Answer:**\n",
        "\n",
        "Place static files inside the `static/` directory and access them with `/static/filename`."
      ]
    },
    {
      "cell_type": "markdown",
      "id": "0e7378d2",
      "metadata": {
        "id": "0e7378d2"
      },
      "source": [
        "## How do you define different routes with different HTTP methods in Flask\n",
        "\n",
        "**Answer:**\n",
        "\n",
        "We specify methods in the @app.route() decorator like `methods=['GET','POST']`."
      ]
    },
    {
      "cell_type": "markdown",
      "id": "74bbaf31",
      "metadata": {
        "id": "74bbaf31"
      },
      "source": [
        "## How do you render HTML templates in Flask\n",
        "\n",
        "**Answer:**\n",
        "\n",
        "We use Flask's render_template() function with templates stored in a `templates/` directory."
      ]
    },
    {
      "cell_type": "markdown",
      "id": "bcdfe619",
      "metadata": {
        "id": "bcdfe619"
      },
      "source": [
        "## How can you generate URLs for routes in Flask using url_for\n",
        "\n",
        "**Answer:**\n",
        "\n",
        "We call url_for('function_name') inside templates or code to generate correct URLs."
      ]
    },
    {
      "cell_type": "code",
      "execution_count": null,
      "id": "f08b3e14",
      "metadata": {
        "id": "f08b3e14"
      },
      "outputs": [],
      "source": [
        "\n",
        "from flask import url_for\n",
        "\n",
        "@app.route('/about')\n",
        "def about():\n",
        "    return f\"Go back to home: {url_for('home')}\"\n"
      ]
    },
    {
      "cell_type": "markdown",
      "id": "237618c1",
      "metadata": {
        "id": "237618c1"
      },
      "source": [
        "## How do you handle forms in Flask\n",
        "\n",
        "**Answer:**\n",
        "\n",
        "We use Flask's request object to read form data submitted with POST. Example: request.form['field_name']."
      ]
    },
    {
      "cell_type": "markdown",
      "id": "c9f04223",
      "metadata": {
        "id": "c9f04223"
      },
      "source": [
        "## How can you validate form data in Flask\n",
        "\n",
        "**Answer:**\n",
        "\n",
        "We can validate form data manually or use libraries like WTForms/Flask-WTF for automatic validation."
      ]
    },
    {
      "cell_type": "markdown",
      "id": "1d9d897c",
      "metadata": {
        "id": "1d9d897c"
      },
      "source": [
        "## How do you manage sessions in Flask\n",
        "\n",
        "**Answer:**\n",
        "\n",
        "We use Flask’s session object to store key-value pairs across requests. It is signed with a secret key for security."
      ]
    },
    {
      "cell_type": "markdown",
      "id": "661b4379",
      "metadata": {
        "id": "661b4379"
      },
      "source": [
        "## How do you redirect to a different route in Flask\n",
        "\n",
        "**Answer:**\n",
        "\n",
        "By using Flask's redirect() function with url_for()."
      ]
    },
    {
      "cell_type": "markdown",
      "id": "ee1b746d",
      "metadata": {
        "id": "ee1b746d"
      },
      "source": [
        "## How do you handle errors in Flask (e.g., 404)\n",
        "\n",
        "**Answer:**\n",
        "\n",
        "By using the @app.errorhandler() decorator to define custom responses for errors like 404 or 500."
      ]
    },
    {
      "cell_type": "code",
      "execution_count": null,
      "id": "4de1c0a9",
      "metadata": {
        "id": "4de1c0a9"
      },
      "outputs": [],
      "source": [
        "\n",
        "@app.errorhandler(404)\n",
        "def not_found(e):\n",
        "    return \"Page not found!\", 404\n"
      ]
    },
    {
      "cell_type": "markdown",
      "id": "a6c493ed",
      "metadata": {
        "id": "a6c493ed"
      },
      "source": [
        "## How do you structure a Flask app using Blueprints\n",
        "\n",
        "**Answer:**\n",
        "\n",
        "Create blueprints for different parts of the application, register them with app.register_blueprint(), and organize routes/templates by modules."
      ]
    },
    {
      "cell_type": "code",
      "execution_count": null,
      "id": "620278e0",
      "metadata": {
        "id": "620278e0"
      },
      "outputs": [],
      "source": [
        "\n",
        "from flask import Blueprint\n",
        "\n",
        "api_bp = Blueprint('api', __name__)\n",
        "\n",
        "@api_bp.route('/hello')\n",
        "def hello_api():\n",
        "    return \"Hello from Blueprint!\"\n",
        "\n",
        "# app.register_blueprint(api_bp, url_prefix='/api')\n"
      ]
    },
    {
      "cell_type": "markdown",
      "id": "45705e62",
      "metadata": {
        "id": "45705e62"
      },
      "source": [
        "## How do you define a custom Jinja filter in Flask\n",
        "\n",
        "**Answer:**\n",
        "\n",
        "Define a Python function and register it with app.template_filter()."
      ]
    },
    {
      "cell_type": "markdown",
      "id": "2f771bd0",
      "metadata": {
        "id": "2f771bd0"
      },
      "source": [
        "## How can you redirect with query parameters in Flask\n",
        "\n",
        "**Answer:**\n",
        "\n",
        "Use redirect(url_for('route', param=value))."
      ]
    },
    {
      "cell_type": "markdown",
      "id": "542daa76",
      "metadata": {
        "id": "542daa76"
      },
      "source": [
        "## How do you return JSON responses in Flask\n",
        "\n",
        "**Answer:**\n",
        "\n",
        "Use jsonify() to return Python dictionaries/lists as JSON."
      ]
    },
    {
      "cell_type": "markdown",
      "id": "81e38cf8",
      "metadata": {
        "id": "81e38cf8"
      },
      "source": [
        "## How do you capture URL parameters in Flask?\n",
        "\n",
        "**Answer:**\n",
        "\n",
        "Define routes with <variable> in the path (e.g., @app.route('/user/<name>'))."
      ]
    }
  ],
  "metadata": {
    "colab": {
      "provenance": []
    },
    "language_info": {
      "name": "python"
    },
    "kernelspec": {
      "name": "python3",
      "display_name": "Python 3"
    }
  },
  "nbformat": 4,
  "nbformat_minor": 5
}