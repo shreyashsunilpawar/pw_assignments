{
  "cells": [
    {
      "cell_type": "markdown",
      "id": "1563bfaa",
      "metadata": {
        "id": "1563bfaa"
      },
      "source": [
        "### Q1. What is a random variable in probability theory?\n",
        "**Answer:** A **random variable** is a variable whose possible values are numerical outcomes of a random phenomenon. It represents the relationship between an experiment’s outcomes and numerical values used in probability calculations. For example, in tossing a coin twice, the number of heads (0, 1, 2) is a random variable. Random variables make it easier to apply mathematical operations and probability functions on uncertain events."
      ]
    },
    {
      "cell_type": "markdown",
      "id": "18db1126",
      "metadata": {
        "id": "18db1126"
      },
      "source": [
        "### Q2. What are the types of random variables?\n",
        "**Answer:** There are **two main types** of random variables:\n",
        "\n",
        "1. **Discrete Random Variable:** Takes a finite or countable number of values. Examples include the number of students present in a class or the number of heads in three coin tosses. These variables are often associated with distributions like *Binomial* or *Poisson*.\n",
        "\n",
        "2. **Continuous Random Variable:** Can take infinitely many values within a range. Examples include height, temperature, or time taken to complete a task. These variables follow distributions such as *Normal*, *Exponential*, or *Uniform*."
      ]
    },
    {
      "cell_type": "markdown",
      "id": "0d17405c",
      "metadata": {
        "id": "0d17405c"
      },
      "source": [
        "### Q3. Explain the difference between discrete and continuous distributions.\n",
        "**Answer:** **Discrete distributions** describe variables that take specific, separate values. Probabilities are assigned to each distinct value using a probability mass function (PMF). Examples: Binomial, Poisson.\n",
        "\n",
        "**Continuous distributions** describe variables that can take any value in an interval. Probabilities are calculated over ranges using a probability density function (PDF). Examples: Normal, Exponential, Uniform.\n",
        "\n",
        "**Key difference:** In discrete cases, P(X=x) is meaningful, but in continuous cases, P(X=x)=0; we use intervals instead."
      ]
    },
    {
      "cell_type": "markdown",
      "id": "f26e5a9c",
      "metadata": {
        "id": "f26e5a9c"
      },
      "source": [
        "### Q4. What is a binomial distribution, and how is it used in probability?\n",
        "**Answer:** The **Binomial Distribution** represents the number of successes in a fixed number of independent trials, where each trial has two outcomes — success or failure — and the probability of success (p) remains constant.\n",
        "\n",
        "The probability formula is:\n",
        "\\[ P(X = k) = \\binom{n}{k} p^k (1-p)^{n-k} \\]\n",
        "\n",
        "**Example:** In 10 coin tosses, the probability of getting exactly 6 heads can be modeled using the binomial distribution. It’s commonly used in quality control, surveys, and reliability testing."
      ]
    },
    {
      "cell_type": "markdown",
      "id": "285b5685",
      "metadata": {
        "id": "285b5685"
      },
      "source": [
        "### Q5. What is the standard normal distribution, and why is it important?\n",
        "**Answer:** The **Standard Normal Distribution** is a normal distribution with a mean (μ) of 0 and a standard deviation (σ) of 1. It’s used to standardize any normal distribution through the formula:\n",
        "\\[ Z = \\frac{X - μ}{σ} \\]\n",
        "\n",
        "**Importance:**\n",
        "- It allows comparison between different normal distributions.\n",
        "- Probability values can be found using standard Z-tables.\n",
        "- Used in hypothesis testing and confidence interval estimation."
      ]
    },
    {
      "cell_type": "markdown",
      "id": "b9071111",
      "metadata": {
        "id": "b9071111"
      },
      "source": [
        "### Q6. What is the Central Limit Theorem (CLT), and why is it critical in statistics?\n",
        "**Answer:** The **Central Limit Theorem (CLT)** states that when independent random samples are drawn from any population, the distribution of the sample mean approaches a normal distribution as the sample size increases, regardless of the population’s original distribution.\n",
        "\n",
        "**Formula:**\n",
        "\\[ \\bar{X} \\sim N(μ, \\frac{σ}{\\sqrt{n}}) \\]\n",
        "\n",
        "**Importance:** It enables the use of normal distribution-based inferential methods such as confidence intervals and hypothesis tests, even when population data isn’t normal."
      ]
    },
    {
      "cell_type": "markdown",
      "id": "a9363063",
      "metadata": {
        "id": "a9363063"
      },
      "source": [
        "### Q7. What is the significance of confidence intervals in statistical analysis?\n",
        "**Answer:** A **confidence interval (CI)** gives a range of values likely to contain the true population parameter with a specified probability (confidence level).\n",
        "\n",
        "**Formula for mean CI (known σ):**\n",
        "\\[ \\bar{X} \\pm Z_{α/2} \\times \\frac{σ}{\\sqrt{n}} \\]\n",
        "\n",
        "**Example:** A 95% confidence interval for average salary of employees indicates that if we repeat the sampling process many times, the true mean will fall within this range 95% of the time.\n",
        "\n",
        "**Importance:** CI provides insight into estimation accuracy and uncertainty."
      ]
    },
    {
      "cell_type": "markdown",
      "id": "8d2ea5f9",
      "metadata": {
        "id": "8d2ea5f9"
      },
      "source": [
        "### Q8. What is the concept of expected value in a probability distribution?\n",
        "**Answer:** The **Expected Value (E[X])** is the long-term average or mean of a random variable. It represents the value you expect to obtain on average if an experiment is repeated many times.\n",
        "\n",
        "**Formula:**\n",
        "- For discrete random variables: \\( E[X] = \\sum x_i P(x_i) \\)\n",
        "- For continuous random variables: \\( E[X] = \\int x f(x) dx \\)\n",
        "\n",
        "**Example:** Expected value of a fair die = (1+2+3+4+5+6)/6 = 3.5."
      ]
    },
    {
      "cell_type": "markdown",
      "id": "e5d660e2",
      "metadata": {
        "id": "e5d660e2"
      },
      "source": [
        "### Q9. Write a Python program to generate 1000 random numbers from a normal distribution with mean = 50 and standard deviation = 5. Compute its mean and standard deviation using NumPy, and draw a histogram to visualize the distribution."
      ]
    },
    {
      "cell_type": "code",
      "execution_count": 1,
      "id": "6a77b63b",
      "metadata": {
        "colab": {
          "base_uri": "https://localhost:8080/",
          "height": 507
        },
        "id": "6a77b63b",
        "outputId": "d8cee7f7-d521-4783-b3d3-b671aa4fc0fe"
      },
      "outputs": [
        {
          "output_type": "stream",
          "name": "stdout",
          "text": [
            "Mean: 49.83\n",
            "Standard Deviation: 5.12\n"
          ]
        },
        {
          "output_type": "display_data",
          "data": {
            "text/plain": [
              "<Figure size 640x480 with 1 Axes>"
            ],
            "image/png": "[encoded data removed]"
          },
          "metadata": {}
        }
      ],
      "source": [
        "\n",
        "import numpy as np\n",
        "import matplotlib.pyplot as plt\n",
        "\n",
        "# Generate 1000 random numbers\n",
        "data = np.random.normal(50, 5, 1000)\n",
        "\n",
        "# Compute mean and standard deviation\n",
        "mean_val = np.mean(data)\n",
        "std_val = np.std(data)\n",
        "\n",
        "print(f\"Mean: {mean_val:.2f}\")\n",
        "print(f\"Standard Deviation: {std_val:.2f}\")\n",
        "\n",
        "# Plot histogram\n",
        "plt.hist(data, bins=30, color='lightblue', edgecolor='black')\n",
        "plt.title(\"Normal Distribution (Mean=50, SD=5)\")\n",
        "plt.xlabel(\"Value\")\n",
        "plt.ylabel(\"Frequency\")\n",
        "plt.show()\n"
      ]
    },
    {
      "cell_type": "markdown",
      "id": "c0c9945e",
      "metadata": {
        "id": "c0c9945e"
      },
      "source": [
        "### Q10. : You are working as a data analyst for a retail company. The company has collected daily sales data for 2 years and wants you to identify the overall sales trend. daily_sales = [220, 245, 210, 265, 230, 250, 260, 275, 240, 255, 235, 260, 245, 250, 225, 270, 265, 255, 250, 260]"
      ]
    },
    {
      "cell_type": "markdown",
      "source": [
        "Ans: 1. Applying the Central Limit Theorem to Estimate Average Sales\n",
        "The Central Limit Theorem (CLT) states that the distribution of sample means approaches a normal distribution as the sample size increases, even if the underlying data is not perfectly normal. This allows analysts to use statistical methods to estimate the population mean and construct confidence intervals, provided the sample is sufficiently large and independent.\n",
        "\n",
        "For your daily sales data (20 values), CLT justifies treating the sample mean as normally distributed. To estimate the average daily sales and construct a 95% confidence interval, follow these steps:\n",
        "\n",
        "Calculate the sample mean to estimate the true daily sales average.\n",
        "\n",
        "Compute the sample standard deviation to measure variability.\n",
        "\n",
        "Calculate the standard error (SE= sample std dev/√n), which quantifies the uncertainty of the sample mean.\n",
        "\n",
        "Use the t-distribution to account for the small sample size (n=20), finding the critical t-value for 95% confidence.\n",
        "\n",
        "Construct the confidence interval using mean ± t critical × SE.\n",
        "\n",
        "This interval means that, with 95% confidence, the true average daily sales falls within the calculated range."
      ],
      "metadata": {
        "id": "d7T8lwbO9v3z"
      },
      "id": "d7T8lwbO9v3z"
    },
    {
      "cell_type": "code",
      "execution_count": 2,
      "id": "0476b9fc",
      "metadata": {
        "colab": {
          "base_uri": "https://localhost:8080/"
        },
        "id": "0476b9fc",
        "outputId": "51a08ab6-3a34-48ea-ddbe-558b4df12bec"
      },
      "outputs": [
        {
          "output_type": "stream",
          "name": "stdout",
          "text": [
            "Mean Sales: 248.25\n",
            "95% Confidence Interval: (240.68, 255.82)\n"
          ]
        }
      ],
      "source": [
        "#2 Write the Python code to compute the mean sales and its confidence interval.\n",
        "import numpy as np\n",
        "import scipy.stats as stats\n",
        "\n",
        "# Given data\n",
        "daily_sales = [220, 245, 210, 265, 230, 250, 260, 275, 240, 255,\n",
        "               235, 260, 245, 250, 225, 270, 265, 255, 250, 260]\n",
        "\n",
        "# Compute mean, standard deviation, and sample size\n",
        "mean_sales = np.mean(daily_sales)\n",
        "std_sales = np.std(daily_sales, ddof=1)\n",
        "n = len(daily_sales)\n",
        "\n",
        "# Confidence level 95%\n",
        "confidence = 0.95\n",
        "z = stats.norm.ppf(1 - (1 - confidence) / 2)\n",
        "margin_error = z * (std_sales / np.sqrt(n))\n",
        "lower = mean_sales - margin_error\n",
        "upper = mean_sales + margin_error\n",
        "\n",
        "print(f\"Mean Sales: {mean_sales:.2f}\")\n",
        "print(f\"95% Confidence Interval: ({lower:.2f}, {upper:.2f})\")\n"
      ]
    }
  ],
  "metadata": {
    "colab": {
      "provenance": []
    },
    "language_info": {
      "name": "python"
    },
    "kernelspec": {
      "name": "python3",
      "display_name": "Python 3"
    }
  },
  "nbformat": 4,
  "nbformat_minor": 5
}