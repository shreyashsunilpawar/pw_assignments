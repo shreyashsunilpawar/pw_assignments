{
  "cells": [
    {
      "cell_type": "markdown",
      "id": "3735c342",
      "metadata": {
        "id": "3735c342"
      },
      "source": [
        "\n",
        "## Theoretical Questions and Answers\n",
        "\n",
        "1. **What is Object-Oriented Programming (OOP)?**\n",
        "   - OOP is a programming paradigm based on the concept of objects, which contain both data (attributes) and methods (functions). It helps in organizing and reusing code effectively.\n",
        "\n",
        "2. **What is a class in OOP?**\n",
        "   - A class is a blueprint for creating objects. It defines attributes and methods common to all objects of that type.\n",
        "\n",
        "3. **What is an object in OOP?**\n",
        "   - An object is an instance of a class. It represents a specific entity with its own data values.\n",
        "\n",
        "4. **What is the difference between abstraction and encapsulation?**\n",
        "   - Abstraction hides implementation details and shows only the essential features to the user. Encapsulation binds data and methods together and restricts direct access to some of the object’s components.\n",
        "\n",
        "5. **What are dunder methods in Python?**\n",
        "   - Dunder methods (double underscore) are special methods like **__init__**, **__str__**, **__len__**, etc., that allow customization of class behavior.\n",
        "\n",
        "6. **Explain the concept of inheritance in OOP.**\n",
        "   - Inheritance allows one class (child) to acquire the properties and methods of another class (parent), promoting code reuse.\n",
        "\n",
        "7. **What is polymorphism in OOP?**\n",
        "   - Polymorphism allows methods to have different implementations depending on the object calling them.\n",
        "\n",
        "8. **How is encapsulation achieved in Python?**\n",
        "   - By making attributes private using a single **_** (protected) or double **__** (private) underscore and controlling access via methods.\n",
        "\n",
        "9. **What is a constructor in Python?**\n",
        "   - A constructor is a special method **__init__** automatically called when an object is created.\n",
        "\n",
        "10. **What are class and static methods in Python?**\n",
        "    - Class methods use **@classmethod** and work with class-level data. Static methods use **@staticmethod** and do not depend on class or object data.\n",
        "\n",
        "11. **What is method overloading in Python?**\n",
        "    - Python doesn’t support true method overloading. Instead, default arguments and variable-length arguments are used to simulate it.\n",
        "\n",
        "12. **What is method overriding in OOP?**\n",
        "    - Method overriding happens when a child class defines a method with the same name as the parent class, replacing the parent’s implementation.\n",
        "\n",
        "13. **What is a property decorator in Python?**\n",
        "    - **@property** allows a method to be accessed like an attribute, providing controlled access to private data.\n",
        "\n",
        "14. **Why is polymorphism important in OOP?**\n",
        "    - It provides flexibility by allowing one interface to be used for different data types.\n",
        "\n",
        "15. **What is an abstract class in Python?**\n",
        "    - An abstract class is a class with one or more abstract methods (methods without implementation), defined using the **abc** module.\n",
        "\n",
        "16. **What are the advantages of OOP?**\n",
        "    - Code reusability, modularity, abstraction, encapsulation, scalability, and easier debugging.\n",
        "\n",
        "17. **What is the difference between a class variable and an instance variable?**\n",
        "    - A class variable is shared across all objects, while an instance variable is unique to each object.\n",
        "\n",
        "18. **What is multiple inheritance in Python?**\n",
        "    - A class can inherit from more than one parent class.\n",
        "\n",
        "19. **Explain the purpose of `__str__` and `__repr__` methods in Python.**\n",
        "    - `__str__` returns a human-readable string representation. `__repr__` returns a developer-oriented string useful for debugging.\n",
        "\n",
        "20. **What is the significance of the `super()` function in Python?**\n",
        "    - `super()` allows a child class to call methods from its parent class.\n",
        "\n",
        "21. **What is the significance of the `__del__` method in Python?**\n",
        "    - It is a destructor method, called when an object is deleted or goes out of scope.\n",
        "\n",
        "22. **What is the difference between @staticmethod and @classmethod in Python?**\n",
        "    - `@staticmethod` doesn’t take `self` or `cls`. `@classmethod` takes `cls` and can modify class variables.\n",
        "\n",
        "23. **How does polymorphism work in Python with inheritance?**\n",
        "    - Child classes can override parent class methods, and the correct method is chosen at runtime depending on the object.\n",
        "\n",
        "24. **What is method chaining in Python OOP?**\n",
        "    - Returning `self` from methods so multiple method calls can be chained together.\n",
        "\n",
        "25. **What is the purpose of the `__call__` method in Python?**\n",
        "    - Allows an object to be called like a function.\n"
      ]
    },
    {
      "cell_type": "markdown",
      "id": "bbcce462",
      "metadata": {
        "id": "bbcce462"
      },
      "source": [
        "### 1. Create a parent class Animal with a method speak() that prints a generic message. Create a child class Dog that overrides the speak() method to print \"Bark!\"."
      ]
    },
    {
      "cell_type": "code",
      "execution_count": 1,
      "id": "36c4d02f",
      "metadata": {
        "colab": {
          "base_uri": "https://localhost:8080/"
        },
        "id": "36c4d02f",
        "outputId": "ce006ea2-a8b2-4794-ddc5-8b8a971d4572"
      },
      "outputs": [
        {
          "output_type": "stream",
          "name": "stdout",
          "text": [
            "Bark!\n"
          ]
        }
      ],
      "source": [
        "\n",
        "class Animal:\n",
        "    def speak(self):\n",
        "        print(\"This is an animal\")\n",
        "\n",
        "class Dog(Animal):\n",
        "    def speak(self):\n",
        "        print(\"Bark!\")\n",
        "\n",
        "d = Dog()\n",
        "d.speak()\n"
      ]
    },
    {
      "cell_type": "markdown",
      "id": "304a2547",
      "metadata": {
        "id": "304a2547"
      },
      "source": [
        "###  Write a program to create an abstract class Shape with a method area(). Derive classes Circle and Rectangle from it and implement the area() method in both."
      ]
    },
    {
      "cell_type": "code",
      "execution_count": 2,
      "id": "6c3916e5",
      "metadata": {
        "colab": {
          "base_uri": "https://localhost:8080/"
        },
        "id": "6c3916e5",
        "outputId": "a3f897e5-5039-49da-9f9f-d70f9f189e5a"
      },
      "outputs": [
        {
          "output_type": "stream",
          "name": "stdout",
          "text": [
            "78.5\n",
            "24\n"
          ]
        }
      ],
      "source": [
        "\n",
        "from abc import ABC, abstractmethod\n",
        "\n",
        "class Shape(ABC):\n",
        "    @abstractmethod\n",
        "    def area(self):\n",
        "        pass\n",
        "\n",
        "class Circle(Shape):\n",
        "    def __init__(self, radius):\n",
        "        self.radius = radius\n",
        "\n",
        "    def area(self):\n",
        "        return 3.14 * self.radius * self.radius\n",
        "\n",
        "class Rectangle(Shape):\n",
        "    def __init__(self, l, b):\n",
        "        self.l = l\n",
        "        self.b = b\n",
        "\n",
        "    def area(self):\n",
        "        return self.l * self.b\n",
        "\n",
        "c = Circle(5)\n",
        "r = Rectangle(4, 6)\n",
        "print(c.area())\n",
        "print(r.area())\n"
      ]
    },
    {
      "cell_type": "markdown",
      "id": "67b29830",
      "metadata": {
        "id": "67b29830"
      },
      "source": [
        "### Implement a multi-level inheritance scenario where a class Vehicle has an attribute type. Derive a class Car and further derive a class ElectricCar that adds a battery attribute."
      ]
    },
    {
      "cell_type": "code",
      "execution_count": 3,
      "id": "210c247b",
      "metadata": {
        "colab": {
          "base_uri": "https://localhost:8080/"
        },
        "id": "210c247b",
        "outputId": "e5d4ba0e-ebdc-4df3-8a68-2b1857791642"
      },
      "outputs": [
        {
          "output_type": "stream",
          "name": "stdout",
          "text": [
            "4-wheeler Tesla 75kWh\n"
          ]
        }
      ],
      "source": [
        "\n",
        "class Vehicle:\n",
        "    def __init__(self, type):\n",
        "        self.type = type\n",
        "\n",
        "class Car(Vehicle):\n",
        "    def __init__(self, type, brand):\n",
        "        super().__init__(type)\n",
        "        self.brand = brand\n",
        "\n",
        "class ElectricCar(Car):\n",
        "    def __init__(self, type, brand, battery):\n",
        "        super().__init__(type, brand)\n",
        "        self.battery = battery\n",
        "\n",
        "ec = ElectricCar(\"4-wheeler\", \"Tesla\", \"75kWh\")\n",
        "print(ec.type, ec.brand, ec.battery)\n"
      ]
    },
    {
      "cell_type": "markdown",
      "id": "5f98c933",
      "metadata": {
        "id": "5f98c933"
      },
      "source": [
        "### 4. Demonstrate polymorphism by creating a base class Bird with a method fly(). Create two derived classesSparrow and Penguin that override the fly() method."
      ]
    },
    {
      "cell_type": "code",
      "execution_count": 4,
      "id": "fc0fbd51",
      "metadata": {
        "colab": {
          "base_uri": "https://localhost:8080/"
        },
        "id": "fc0fbd51",
        "outputId": "4c7d74c4-c63a-4fce-ba86-7834cb681844"
      },
      "outputs": [
        {
          "output_type": "stream",
          "name": "stdout",
          "text": [
            "Sparrow is flying\n",
            "Penguins cannot fly\n"
          ]
        }
      ],
      "source": [
        "\n",
        "class Bird:\n",
        "    def fly(self):\n",
        "        print(\"Bird is flying\")\n",
        "\n",
        "class Sparrow(Bird):\n",
        "    def fly(self):\n",
        "        print(\"Sparrow is flying\")\n",
        "\n",
        "class Penguin(Bird):\n",
        "    def fly(self):\n",
        "        print(\"Penguins cannot fly\")\n",
        "\n",
        "birds = [Sparrow(), Penguin()]\n",
        "for b in birds:\n",
        "    b.fly()\n"
      ]
    },
    {
      "cell_type": "markdown",
      "id": "b96d530d",
      "metadata": {
        "id": "b96d530d"
      },
      "source": [
        "### Write a program to demonstrate encapsulation by creating a class BankAccount with private attributes balance and methods to deposit, withdraw, and check balance."
      ]
    },
    {
      "cell_type": "code",
      "execution_count": 5,
      "id": "b4e33cc0",
      "metadata": {
        "colab": {
          "base_uri": "https://localhost:8080/"
        },
        "id": "b4e33cc0",
        "outputId": "e1a6004a-746a-4e67-dd4f-e4ef95235ac3"
      },
      "outputs": [
        {
          "output_type": "stream",
          "name": "stdout",
          "text": [
            "150\n"
          ]
        }
      ],
      "source": [
        "\n",
        "class BankAccount:\n",
        "    def __init__(self, balance=0):\n",
        "        self.__balance = balance\n",
        "\n",
        "    def deposit(self, amount):\n",
        "        self.__balance += amount\n",
        "\n",
        "    def withdraw(self, amount):\n",
        "        if self.__balance >= amount:\n",
        "            self.__balance -= amount\n",
        "\n",
        "    def get_balance(self):\n",
        "        return self.__balance\n",
        "\n",
        "acc = BankAccount(100)\n",
        "acc.deposit(50)\n",
        "print(acc.get_balance())\n"
      ]
    },
    {
      "cell_type": "markdown",
      "id": "d619b79c",
      "metadata": {
        "id": "d619b79c"
      },
      "source": [
        "###  Demonstrate runtime polymorphism using a method play() in a base class Instrument. Derive classes Guitar and Piano that implement their own version of play()."
      ]
    },
    {
      "cell_type": "code",
      "execution_count": 6,
      "id": "05c3d807",
      "metadata": {
        "colab": {
          "base_uri": "https://localhost:8080/"
        },
        "id": "05c3d807",
        "outputId": "34e49bb6-9037-4e0d-c84e-2545e844486b"
      },
      "outputs": [
        {
          "output_type": "stream",
          "name": "stdout",
          "text": [
            "Playing Guitar\n",
            "Playing Piano\n"
          ]
        }
      ],
      "source": [
        "\n",
        "class Instrument:\n",
        "    def play(self):\n",
        "        print(\"Playing an instrument\")\n",
        "\n",
        "class Guitar(Instrument):\n",
        "    def play(self):\n",
        "        print(\"Playing Guitar\")\n",
        "\n",
        "class Piano(Instrument):\n",
        "    def play(self):\n",
        "        print(\"Playing Piano\")\n",
        "\n",
        "insts = [Guitar(), Piano()]\n",
        "for i in insts:\n",
        "    i.play()\n"
      ]
    },
    {
      "cell_type": "markdown",
      "id": "93561934",
      "metadata": {
        "id": "93561934"
      },
      "source": [
        "### 7. Create a class MathOperations with a class method add_numbers() to add two numbers and a static method subtract_numbers() to subtract two numbers."
      ]
    },
    {
      "cell_type": "code",
      "execution_count": 7,
      "id": "b4b18f33",
      "metadata": {
        "colab": {
          "base_uri": "https://localhost:8080/"
        },
        "id": "b4b18f33",
        "outputId": "2e0d5dd6-4fd7-410c-8b6f-a5b19c01d3c4"
      },
      "outputs": [
        {
          "output_type": "stream",
          "name": "stdout",
          "text": [
            "8\n",
            "2\n"
          ]
        }
      ],
      "source": [
        "\n",
        "class MathOperations:\n",
        "    @classmethod\n",
        "    def add_numbers(cls, a, b):\n",
        "        return a + b\n",
        "\n",
        "    @staticmethod\n",
        "    def subtract_numbers(a, b):\n",
        "        return a - b\n",
        "\n",
        "print(MathOperations.add_numbers(5, 3))\n",
        "print(MathOperations.subtract_numbers(5, 3))\n"
      ]
    },
    {
      "cell_type": "markdown",
      "id": "f9dac849",
      "metadata": {
        "id": "f9dac849"
      },
      "source": [
        "###  Implement a class Person with a class method to count the total number of persons created."
      ]
    },
    {
      "cell_type": "code",
      "execution_count": 8,
      "id": "96ed7ad1",
      "metadata": {
        "colab": {
          "base_uri": "https://localhost:8080/"
        },
        "id": "96ed7ad1",
        "outputId": "617b27d8-e8ae-4f6e-edd3-7915aa041208"
      },
      "outputs": [
        {
          "output_type": "stream",
          "name": "stdout",
          "text": [
            "2\n"
          ]
        }
      ],
      "source": [
        "\n",
        "class Person:\n",
        "    count = 0\n",
        "\n",
        "    def __init__(self, name):\n",
        "        self.name = name\n",
        "        Person.count += 1\n",
        "\n",
        "    @classmethod\n",
        "    def total_persons(cls):\n",
        "        return cls.count\n",
        "\n",
        "p1 = Person(\"A\")\n",
        "p2 = Person(\"B\")\n",
        "print(Person.total_persons())\n"
      ]
    },
    {
      "cell_type": "markdown",
      "id": "ecc978d8",
      "metadata": {
        "id": "ecc978d8"
      },
      "source": [
        "###  Write a class Fraction with attributes numerator and denominator. Override the str method to display the fraction as \"numerator/denominator\""
      ]
    },
    {
      "cell_type": "code",
      "execution_count": 9,
      "id": "2a0b7b45",
      "metadata": {
        "colab": {
          "base_uri": "https://localhost:8080/"
        },
        "id": "2a0b7b45",
        "outputId": "17f56e95-39ea-494a-a098-3ce5744bcb80"
      },
      "outputs": [
        {
          "output_type": "stream",
          "name": "stdout",
          "text": [
            "3/4\n"
          ]
        }
      ],
      "source": [
        "\n",
        "class Fraction:\n",
        "    def __init__(self, num, den):\n",
        "        self.num = num\n",
        "        self.den = den\n",
        "\n",
        "    def __str__(self):\n",
        "        return f\"{self.num}/{self.den}\"\n",
        "\n",
        "f = Fraction(3, 4)\n",
        "print(f)\n"
      ]
    },
    {
      "cell_type": "markdown",
      "id": "c20dcfa6",
      "metadata": {
        "id": "c20dcfa6"
      },
      "source": [
        "### Demonstrate operator overloading by creating a class Vector and overriding the add method to add two vectors."
      ]
    },
    {
      "cell_type": "code",
      "execution_count": 10,
      "id": "e72c76f6",
      "metadata": {
        "colab": {
          "base_uri": "https://localhost:8080/"
        },
        "id": "e72c76f6",
        "outputId": "db955e14-4ce6-416c-dcfd-ad19bd20da97"
      },
      "outputs": [
        {
          "output_type": "stream",
          "name": "stdout",
          "text": [
            "6 8\n"
          ]
        }
      ],
      "source": [
        "\n",
        "class Vector:\n",
        "    def __init__(self, x, y):\n",
        "        self.x = x\n",
        "        self.y = y\n",
        "\n",
        "    def __add__(self, other):\n",
        "        return Vector(self.x + other.x, self.y + other.y)\n",
        "\n",
        "v1 = Vector(2, 3)\n",
        "v2 = Vector(4, 5)\n",
        "v3 = v1 + v2\n",
        "print(v3.x, v3.y)\n"
      ]
    },
    {
      "cell_type": "markdown",
      "id": "2dd0fe38",
      "metadata": {
        "id": "2dd0fe38"
      },
      "source": [
        "### Create a class Person with attributes name and age. Add a method greet() that prints \"Hello, my name is{name} and I am {age} years old.\""
      ]
    },
    {
      "cell_type": "code",
      "execution_count": 11,
      "id": "ea461f36",
      "metadata": {
        "colab": {
          "base_uri": "https://localhost:8080/"
        },
        "id": "ea461f36",
        "outputId": "c08a4cfe-efe7-4869-bbb3-9e341c875930"
      },
      "outputs": [
        {
          "output_type": "stream",
          "name": "stdout",
          "text": [
            "Hello, my name is Shreyash and I am 23 years old.\n"
          ]
        }
      ],
      "source": [
        "\n",
        "class Person:\n",
        "    def __init__(self, name, age):\n",
        "        self.name = name\n",
        "        self.age = age\n",
        "\n",
        "    def greet(self):\n",
        "        print(f\"Hello, my name is {self.name} and I am {self.age} years old.\")\n",
        "\n",
        "p = Person(\"Shreyash\", 23)\n",
        "p.greet()\n"
      ]
    },
    {
      "cell_type": "markdown",
      "id": "de429862",
      "metadata": {
        "id": "de429862"
      },
      "source": [
        "### 12. Implement a class Student with attributes name and grades. Create a method average_grade() to compute the average of the grades."
      ]
    },
    {
      "cell_type": "code",
      "execution_count": 12,
      "id": "da95316c",
      "metadata": {
        "colab": {
          "base_uri": "https://localhost:8080/"
        },
        "id": "da95316c",
        "outputId": "aee028e6-e189-4121-dd28-5af2b8036793"
      },
      "outputs": [
        {
          "output_type": "stream",
          "name": "stdout",
          "text": [
            "85.0\n"
          ]
        }
      ],
      "source": [
        "\n",
        "class Student:\n",
        "    def __init__(self, name, grades):\n",
        "        self.name = name\n",
        "        self.grades = grades\n",
        "\n",
        "    def average_grade(self):\n",
        "        return sum(self.grades) / len(self.grades)\n",
        "\n",
        "s = Student(\"John\", [80, 90, 85])\n",
        "print(s.average_grade())\n"
      ]
    },
    {
      "cell_type": "markdown",
      "id": "976e064b",
      "metadata": {
        "id": "976e064b"
      },
      "source": [
        "###  Create a class Rectangle with methods set_dimensions() to set the dimensions and area() to calculate the area."
      ]
    },
    {
      "cell_type": "code",
      "execution_count": 13,
      "id": "214d9332",
      "metadata": {
        "colab": {
          "base_uri": "https://localhost:8080/"
        },
        "id": "214d9332",
        "outputId": "4392efaf-3a16-4e12-fd03-e167929d1425"
      },
      "outputs": [
        {
          "output_type": "stream",
          "name": "stdout",
          "text": [
            "30\n"
          ]
        }
      ],
      "source": [
        "\n",
        "class Rectangle:\n",
        "    def set_dimensions(self, l, b):\n",
        "        self.l = l\n",
        "        self.b = b\n",
        "\n",
        "    def area(self):\n",
        "        return self.l * self.b\n",
        "\n",
        "r = Rectangle()\n",
        "r.set_dimensions(5, 6)\n",
        "print(r.area())\n"
      ]
    },
    {
      "cell_type": "markdown",
      "id": "fc428546",
      "metadata": {
        "id": "fc428546"
      },
      "source": [
        "### 14. Create a class Employee with a method calculate_salary() that computes the salary based on hours worked and hourly rate. Create a derived class Manager that adds a bonus to the salary."
      ]
    },
    {
      "cell_type": "code",
      "execution_count": 14,
      "id": "90f59c94",
      "metadata": {
        "colab": {
          "base_uri": "https://localhost:8080/"
        },
        "id": "90f59c94",
        "outputId": "99f86390-0b24-47fa-8a9a-628ea353bbcb"
      },
      "outputs": [
        {
          "output_type": "stream",
          "name": "stdout",
          "text": [
            "3000\n"
          ]
        }
      ],
      "source": [
        "\n",
        "class Employee:\n",
        "    def __init__(self, hours, rate):\n",
        "        self.hours = hours\n",
        "        self.rate = rate\n",
        "\n",
        "    def calculate_salary(self):\n",
        "        return self.hours * self.rate\n",
        "\n",
        "class Manager(Employee):\n",
        "    def __init__(self, hours, rate, bonus):\n",
        "        super().__init__(hours, rate)\n",
        "        self.bonus = bonus\n",
        "\n",
        "    def calculate_salary(self):\n",
        "        return super().calculate_salary() + self.bonus\n",
        "\n",
        "m = Manager(40, 50, 1000)\n",
        "print(m.calculate_salary())\n"
      ]
    },
    {
      "cell_type": "markdown",
      "id": "ba298743",
      "metadata": {
        "id": "ba298743"
      },
      "source": [
        "### 15. Create a class Product with attributes name, price, and quantity. Implement a method total_price() that calculates the total price of the product."
      ]
    },
    {
      "cell_type": "code",
      "execution_count": 15,
      "id": "fc387ccf",
      "metadata": {
        "colab": {
          "base_uri": "https://localhost:8080/"
        },
        "id": "fc387ccf",
        "outputId": "9fd4b10f-20b9-4f5a-b8f0-47524a780eb9"
      },
      "outputs": [
        {
          "output_type": "stream",
          "name": "stdout",
          "text": [
            "50\n"
          ]
        }
      ],
      "source": [
        "\n",
        "class Product:\n",
        "    def __init__(self, name, price, qty):\n",
        "        self.name = name\n",
        "        self.price = price\n",
        "        self.qty = qty\n",
        "\n",
        "    def total_price(self):\n",
        "        return self.price * self.qty\n",
        "\n",
        "p = Product(\"Pen\", 10, 5)\n",
        "print(p.total_price())\n"
      ]
    },
    {
      "cell_type": "markdown",
      "id": "36fe4e41",
      "metadata": {
        "id": "36fe4e41"
      },
      "source": [
        "### 16. Create a class Animal with an abstract method sound(). Create two derived classes Cow and Sheep that implement the sound() method."
      ]
    },
    {
      "cell_type": "code",
      "execution_count": 16,
      "id": "de2bd58d",
      "metadata": {
        "colab": {
          "base_uri": "https://localhost:8080/"
        },
        "id": "de2bd58d",
        "outputId": "5e5ef595-b064-4ca1-dad0-9724e5e6be23"
      },
      "outputs": [
        {
          "output_type": "stream",
          "name": "stdout",
          "text": [
            "Moo\n",
            "Baa\n"
          ]
        }
      ],
      "source": [
        "\n",
        "from abc import ABC, abstractmethod\n",
        "\n",
        "class Animal(ABC):\n",
        "    @abstractmethod\n",
        "    def sound(self):\n",
        "        pass\n",
        "\n",
        "class Cow(Animal):\n",
        "    def sound(self):\n",
        "        return \"Moo\"\n",
        "\n",
        "class Sheep(Animal):\n",
        "    def sound(self):\n",
        "        return \"Baa\"\n",
        "\n",
        "a1 = Cow()\n",
        "a2 = Sheep()\n",
        "print(a1.sound())\n",
        "print(a2.sound())\n"
      ]
    },
    {
      "cell_type": "markdown",
      "id": "3e23b744",
      "metadata": {
        "id": "3e23b744"
      },
      "source": [
        "### 17. Create a class Book with attributes title, author, and year_published. Add a method get_book_info() that returns a formatted string with the book's details"
      ]
    },
    {
      "cell_type": "code",
      "execution_count": 17,
      "id": "934ee3ba",
      "metadata": {
        "colab": {
          "base_uri": "https://localhost:8080/"
        },
        "id": "934ee3ba",
        "outputId": "486c1dd6-6b93-420e-a72a-32ca3b883150"
      },
      "outputs": [
        {
          "output_type": "stream",
          "name": "stdout",
          "text": [
            "Python by Guido, published in 1991\n"
          ]
        }
      ],
      "source": [
        "\n",
        "class Book:\n",
        "    def __init__(self, title, author, year):\n",
        "        self.title = title\n",
        "        self.author = author\n",
        "        self.year = year\n",
        "\n",
        "    def get_book_info(self):\n",
        "        return f\"{self.title} by {self.author}, published in {self.year}\"\n",
        "\n",
        "b = Book(\"Python\", \"Guido\", 1991)\n",
        "print(b.get_book_info())\n"
      ]
    },
    {
      "cell_type": "markdown",
      "id": "663abdeb",
      "metadata": {
        "id": "663abdeb"
      },
      "source": [
        "### 18. Create a class House with attributes address and price. Create a derived class Mansion that adds an attribute number_of_rooms."
      ]
    },
    {
      "cell_type": "code",
      "execution_count": 18,
      "id": "3ca6b31c",
      "metadata": {
        "colab": {
          "base_uri": "https://localhost:8080/"
        },
        "id": "3ca6b31c",
        "outputId": "30081557-3bb7-491e-abea-6c0b52628612"
      },
      "outputs": [
        {
          "output_type": "stream",
          "name": "stdout",
          "text": [
            "123 Street 1000000 10\n"
          ]
        }
      ],
      "source": [
        "\n",
        "class House:\n",
        "    def __init__(self, address, price):\n",
        "        self.address = address\n",
        "        self.price = price\n",
        "\n",
        "class Mansion(House):\n",
        "    def __init__(self, address, price, rooms):\n",
        "        super().__init__(address, price)\n",
        "        self.rooms = rooms\n",
        "\n",
        "m = Mansion(\"123 Street\", 1000000, 10)\n",
        "print(m.address, m.price, m.rooms)\n"
      ]
    }
  ],
  "metadata": {
    "colab": {
      "provenance": []
    },
    "language_info": {
      "name": "python"
    },
    "kernelspec": {
      "name": "python3",
      "display_name": "Python 3"
    }
  },
  "nbformat": 4,
  "nbformat_minor": 5
}