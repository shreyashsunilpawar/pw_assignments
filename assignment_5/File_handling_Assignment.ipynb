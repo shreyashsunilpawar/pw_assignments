{
 "cells": [
  {
   "cell_type": "markdown",
   "id": "da3c9fec",
   "metadata": {},
   "source": [
    "## Theory Questions"
   ]
  },
  {
   "cell_type": "markdown",
   "id": "5cd3da6c",
   "metadata": {},
   "source": [
    "### Q: What is the difference between interpreted and compiled languages?\n",
    "\n",
    "**A:** **Compiled languages** (e.g., C, C++) are translated to machine code by a compiler before running; the output is an executable. **Interpreted languages** (e.g., Python, JavaScript) are executed by an interpreter which reads and executes code line-by-line. Compiled code often runs faster; interpreted code is more flexible for quick changes and portability."
   ]
  },
  {
   "cell_type": "markdown",
   "id": "3f798003",
   "metadata": {},
   "source": [
    "### Q: What is exception handling in Python?\n",
    "\n",
    "**A:** Exception handling is the mechanism to catch and manage runtime errors (exceptions) using `try`, `except`, `else`, and `finally` blocks so the program can continue or fail gracefully."
   ]
  },
  {
   "cell_type": "markdown",
   "id": "cd6d4d55",
   "metadata": {},
   "source": [
    "### Q: What is the purpose of the finally block in exception handling?\n",
    "\n",
    "**A:** `finally` block always runs whether an exception occurred or not—used to release resources (close files, network sockets) or perform cleanup."
   ]
  },
  {
   "cell_type": "markdown",
   "id": "ce941759",
   "metadata": {},
   "source": [
    "### Q: What is logging in Python?\n",
    "\n",
    "**A:** Logging is recording runtime events (info, warnings, errors) using the `logging` module. It helps debugging, monitoring, and auditing program behaviour."
   ]
  },
  {
   "cell_type": "markdown",
   "id": "76977be0",
   "metadata": {},
   "source": [
    "### Q: What is the significance of the __del__ method in Python?\n",
    "\n",
    "**A:** `__del__` is a destructor method called when an object is about to be garbage-collected. It is unreliable for critical resource cleanup (use context managers instead)."
   ]
  },
  {
   "cell_type": "markdown",
   "id": "46f135e9",
   "metadata": {},
   "source": [
    "### Q: What is the difference between import and from ... import in Python?\n",
    "\n",
    "**A:** `import module` imports the module as a whole (access with `module.name`). `from module import name` imports a specific attribute or function directly into the local namespace (`name`)."
   ]
  },
  {
   "cell_type": "markdown",
   "id": "12bdbfde",
   "metadata": {},
   "source": [
    "### Q: How can you handle multiple exceptions in Python?\n",
    "\n",
    "**A:** Use multiple `except` blocks for different exception types or a single `except (TypeError, ValueError) as e:` tuple. Order from specific to general."
   ]
  },
  {
   "cell_type": "markdown",
   "id": "5f7d05e5",
   "metadata": {},
   "source": [
    "### Q: What is the purpose of the with statement when handling files in Python?\n",
    "\n",
    "**A:** `with open(...) as f:` is a context manager that ensures the file is properly closed after the block, even if exceptions occur."
   ]
  },
  {
   "cell_type": "markdown",
   "id": "c0207165",
   "metadata": {},
   "source": [
    "### Q: What is the difference between multithreading and multiprocessing?\n",
    "\n",
    "**A:** **Multithreading** uses multiple threads within the same process (shared memory) — good for I/O-bound tasks. **Multiprocessing** runs separate processes (separate memory) — better for CPU-bound tasks as it bypasses the GIL in Python."
   ]
  },
  {
   "cell_type": "markdown",
   "id": "b88c3e96",
   "metadata": {},
   "source": [
    "### Q: What are the advantages of using logging in a program?\n",
    "\n",
    "**A:** Persistent record of events, easier debugging, different severity levels, configurable outputs (console, file), and better observability in production."
   ]
  },
  {
   "cell_type": "markdown",
   "id": "77178e22",
   "metadata": {},
   "source": [
    "### Q: What is memory management in Python?\n",
    "\n",
    "**A:** Memory management includes allocation, reuse, and deallocation of memory. Python uses reference counting and a cyclic garbage collector to free unused objects."
   ]
  },
  {
   "cell_type": "markdown",
   "id": "94ea39bd",
   "metadata": {},
   "source": [
    "### Q: What are the basic steps involved in exception handling in Python?\n",
    "\n",
    "**A:** 1. Wrap risky code in `try`. 2. Catch exceptions with `except`. 3. Optionally run code if no exception with `else`. 4. Always run cleanup in `finally`."
   ]
  },
  {
   "cell_type": "markdown",
   "id": "10c93e36",
   "metadata": {},
   "source": [
    "### Q: Why is memory management important in Python?\n",
    "\n",
    "**A:** To avoid memory leaks, ensure efficient resource usage, and keep the application responsive and scalable."
   ]
  },
  {
   "cell_type": "markdown",
   "id": "1834911c",
   "metadata": {},
   "source": [
    "### Q: What is the role of try and except in exception handling?\n",
    "\n",
    "**A:** `try` encloses code that may raise exceptions; `except` handles specified exceptions raised in the `try` block."
   ]
  },
  {
   "cell_type": "markdown",
   "id": "828155ef",
   "metadata": {},
   "source": [
    "### Q: How does Python's garbage collection system work?\n",
    "\n",
    "**A:** Python uses reference counting to free objects when count reaches zero and a cyclic garbage collector to detect and collect reference cycles that reference counting alone can't free."
   ]
  },
  {
   "cell_type": "markdown",
   "id": "adbb53f6",
   "metadata": {},
   "source": [
    "### Q: What is the purpose of the else block in exception handling?\n",
    "\n",
    "**A:** `else` runs only if no exception was raised in the `try` block. Good for code that should run when the try succeeded."
   ]
  },
  {
   "cell_type": "markdown",
   "id": "40d07a14",
   "metadata": {},
   "source": [
    "### Q: What are the common logging levels in Python?\n",
    "\n",
    "**A:** DEBUG, INFO, WARNING, ERROR, CRITICAL."
   ]
  },
  {
   "cell_type": "markdown",
   "id": "416e7081",
   "metadata": {},
   "source": [
    "### Q: What is the difference between os.fork() and multiprocessing in Python?\n",
    "\n",
    "**A:** `os.fork()` directly duplicates the current process (Unix-only). `multiprocessing` is a portable module that creates new processes and manages communication and pools in a cross-platform way."
   ]
  },
  {
   "cell_type": "markdown",
   "id": "271cb7b9",
   "metadata": {},
   "source": [
    "### Q: What is the importance of closing a file in Python?\n",
    "\n",
    "**A:** Closing a file flushes buffers, releases OS resources, and ensures data integrity. Use `with` to handle closing automatically."
   ]
  },
  {
   "cell_type": "markdown",
   "id": "11a828dd",
   "metadata": {},
   "source": [
    "### Q: What is the difference between file.read() and file.readline() in Python?\n",
    "\n",
    "**A:** `file.read()` reads the entire file (or up to a size) into a string. `file.readline()` reads a single line (including the trailing newline) each call."
   ]
  },
  {
   "cell_type": "markdown",
   "id": "d071fe13",
   "metadata": {},
   "source": [
    "### Q: What is the logging module in Python used for?\n",
    "\n",
    "**A:** The `logging` module provides a flexible framework for emitting log messages from Python programs and directing them to different destinations."
   ]
  },
  {
   "cell_type": "markdown",
   "id": "1f7afe8b",
   "metadata": {},
   "source": [
    "### Q: What is the os module in Python used for in file handling?\n",
    "\n",
    "**A:** `os` provides functions to interact with the operating system: check file existence, remove files, get file sizes, create directories, and more."
   ]
  },
  {
   "cell_type": "markdown",
   "id": "e52e23c4",
   "metadata": {},
   "source": [
    "### Q: What are the challenges associated with memory management in Python?\n",
    "\n",
    "**A:** Keeping long-lived references, hidden reference cycles, large data structures (big lists/dataframes), and external resources not freed promptly."
   ]
  },
  {
   "cell_type": "markdown",
   "id": "3f235203",
   "metadata": {},
   "source": [
    "### Q: How do you raise an exception manually in Python?\n",
    "\n",
    "**A:** Use the `raise` statement, e.g. `raise ValueError('bad value')`."
   ]
  },
  {
   "cell_type": "markdown",
   "id": "a545357f",
   "metadata": {},
   "source": [
    "### Q: Why is it important to use multithreading in certain applications?\n",
    "\n",
    "**A:** Multithreading helps when tasks are I/O-bound (networking, file I/O) — it keeps the program responsive while waiting for I/O operations."
   ]
  },
  {
   "cell_type": "markdown",
   "id": "d10215f0",
   "metadata": {},
   "source": [
    "## Practical Questions"
   ]
  },
  {
   "cell_type": "code",
   "execution_count": 2,
   "id": "28c87f65",
   "metadata": {},
   "outputs": [],
   "source": [
    "\n",
    "# 1) Open a file for writing and write a string to it\n",
    "with open('example_write.txt', 'w', encoding='utf-8') as f:\n",
    "    chars_written = f.write('Hello, World!')\n",
    "chars_written\n",
    "f.close()\n"
   ]
  },
  {
   "cell_type": "code",
   "execution_count": 3,
   "id": "b8540ee9",
   "metadata": {},
   "outputs": [
    {
     "name": "stdout",
     "output_type": "stream",
     "text": [
      "'Hello, World!'\n"
     ]
    }
   ],
   "source": [
    "\n",
    "# 2) Read the contents of a file and print each line\n",
    "with open('example_write.txt', 'r', encoding='utf-8') as f:\n",
    "    for line in f:\n",
    "        print(repr(line.rstrip('\\n')))\n"
   ]
  },
  {
   "cell_type": "code",
   "execution_count": 4,
   "id": "9aabd543",
   "metadata": {},
   "outputs": [
    {
     "name": "stdout",
     "output_type": "stream",
     "text": [
      "File not found: no_such_file.txt\n"
     ]
    }
   ],
   "source": [
    "\n",
    "# 3) Handle file not existing while trying to open it\n",
    "import os\n",
    "fname = 'no_such_file.txt'\n",
    "try:\n",
    "    with open(fname, 'r', encoding='utf-8') as f:\n",
    "        data = f.read()\n",
    "except FileNotFoundError as e:\n",
    "    print('File not found:', fname)\n",
    "    data = None\n",
    "data\n"
   ]
  },
  {
   "cell_type": "code",
   "execution_count": 5,
   "id": "4230a980",
   "metadata": {},
   "outputs": [
    {
     "name": "stdout",
     "output_type": "stream",
     "text": [
      "Copy created: copy_of_example.txt\n"
     ]
    }
   ],
   "source": [
    "\n",
    "# 4) Read from one file and write to another\n",
    "with open('example_write.txt', 'r', encoding='utf-8') as src, open('copy_of_example.txt', 'w', encoding='utf-8') as dst:\n",
    "    for line in src:\n",
    "        dst.write(line)\n",
    "print('Copy created: copy_of_example.txt')\n"
   ]
  },
  {
   "cell_type": "code",
   "execution_count": 6,
   "id": "bc608287",
   "metadata": {},
   "outputs": [
    {
     "name": "stdout",
     "output_type": "stream",
     "text": [
      "safe_div(10, 2) = 5.0\n",
      "safe_div(10, 0) = None\n"
     ]
    }
   ],
   "source": [
    "\n",
    "# 5) Catch and handle division by zero, and log an error to a log file\n",
    "import logging\n",
    "logging.basicConfig(filename='example_error.log', level=logging.ERROR, format='%(asctime)s %(levelname)s:%(message)s')\n",
    "\n",
    "def safe_div(a, b):\n",
    "    try:\n",
    "        return a / b\n",
    "    except ZeroDivisionError as e:\n",
    "        logging.error('Division by zero: %s', e)\n",
    "        return None\n",
    "\n",
    "print('safe_div(10, 2) =', safe_div(10,2))\n",
    "print('safe_div(10, 0) =', safe_div(10,0))\n"
   ]
  },
  {
   "cell_type": "code",
   "execution_count": 7,
   "id": "1e500490",
   "metadata": {},
   "outputs": [
    {
     "name": "stderr",
     "output_type": "stream",
     "text": [
      "DEBUG: Debug message\n",
      "INFO: Info message\n",
      "WARNING: Warning message\n",
      "ERROR: Error message\n",
      "CRITICAL: Critical message\n"
     ]
    }
   ],
   "source": [
    "\n",
    "# 6) Logging at different levels\n",
    "import logging\n",
    "logger = logging.getLogger('mylogger')\n",
    "logger.setLevel(logging.DEBUG)\n",
    "# console handler\n",
    "ch = logging.StreamHandler()\n",
    "ch.setLevel(logging.DEBUG)\n",
    "formatter = logging.Formatter('%(levelname)s: %(message)s')\n",
    "ch.setFormatter(formatter)\n",
    "logger.addHandler(ch)\n",
    "\n",
    "logger.debug('Debug message')\n",
    "logger.info('Info message')\n",
    "logger.warning('Warning message')\n",
    "logger.error('Error message')\n",
    "logger.critical('Critical message')\n"
   ]
  },
  {
   "cell_type": "code",
   "execution_count": 8,
   "id": "0cd093e0",
   "metadata": {},
   "outputs": [
    {
     "name": "stdout",
     "output_type": "stream",
     "text": [
      "Could not open file: [Errno 2] No such file or directory: 'protected_file.txt'\n"
     ]
    }
   ],
   "source": [
    "\n",
    "# 7) Handle file opening error using exception handling\n",
    "try:\n",
    "    f = open('protected_file.txt', 'r', encoding='utf-8')\n",
    "except Exception as e:\n",
    "    print('Could not open file:', e)\n",
    "else:\n",
    "    f.close()\n"
   ]
  },
  {
   "cell_type": "code",
   "execution_count": 9,
   "id": "dac2da37",
   "metadata": {},
   "outputs": [
    {
     "data": {
      "text/plain": [
       "['Hello, World!']"
      ]
     },
     "execution_count": 9,
     "metadata": {},
     "output_type": "execute_result"
    }
   ],
   "source": [
    "\n",
    "# 8) Read a file line by line and store in a list\n",
    "with open('example_write.txt', 'r', encoding='utf-8') as f:\n",
    "    lines = [line.rstrip('\\n') for line in f]\n",
    "lines\n"
   ]
  },
  {
   "cell_type": "code",
   "execution_count": 10,
   "id": "646dc7f5",
   "metadata": {},
   "outputs": [
    {
     "name": "stdout",
     "output_type": "stream",
     "text": [
      "Appended.\n"
     ]
    }
   ],
   "source": [
    "\n",
    "# 9) Append data to an existing file\n",
    "with open('example_write.txt', 'a', encoding='utf-8') as f:\n",
    "    f.write('\\nAdditional line')\n",
    "print('Appended.')\n"
   ]
  },
  {
   "cell_type": "code",
   "execution_count": 11,
   "id": "ee9474d2",
   "metadata": {},
   "outputs": [
    {
     "name": "stdout",
     "output_type": "stream",
     "text": [
      "Key missing: 'c'\n"
     ]
    }
   ],
   "source": [
    "\n",
    "# 10) Handle KeyError when accessing dictionary\n",
    "d = {'a': 1, 'b': 2}\n",
    "try:\n",
    "    print(d['c'])\n",
    "except KeyError as e:\n",
    "    print('Key missing:', e)\n"
   ]
  },
  {
   "cell_type": "code",
   "execution_count": 12,
   "id": "c7e7694f",
   "metadata": {},
   "outputs": [
    {
     "name": "stdout",
     "output_type": "stream",
     "text": [
      "KeyError handled\n",
      "IndexError handled\n",
      "ZeroDivisionError handled\n"
     ]
    }
   ],
   "source": [
    "\n",
    "# 11) Example: multiple except blocks\n",
    "def risky(index, d):\n",
    "    try:\n",
    "        return d[index] / 0  # deliberately cause ZeroDivisionError after indexing\n",
    "    except KeyError:\n",
    "        print('KeyError handled')\n",
    "    except IndexError:\n",
    "        print('IndexError handled')\n",
    "    except ZeroDivisionError:\n",
    "        print('ZeroDivisionError handled')\n",
    "\n",
    "risky(0, {})   # KeyError expected\n",
    "risky(10, [1,2])  # IndexError expected\n",
    "risky(0, [1,2])   # ZeroDivisionError expected from division\n"
   ]
  },
  {
   "cell_type": "code",
   "execution_count": 13,
   "id": "039bca00",
   "metadata": {},
   "outputs": [
    {
     "name": "stdout",
     "output_type": "stream",
     "text": [
      "example_write.txt exists and is not empty\n"
     ]
    }
   ],
   "source": [
    "\n",
    "# 12) Check if a file exists before reading\n",
    "import os\n",
    "fname = 'example_write.txt'\n",
    "if os.path.exists(fname) and os.path.getsize(fname) > 0:\n",
    "    print(fname, 'exists and is not empty')\n",
    "else:\n",
    "    print(fname, 'missing or empty')\n"
   ]
  },
  {
   "cell_type": "code",
   "execution_count": 14,
   "id": "4a695cc2",
   "metadata": {},
   "outputs": [
    {
     "name": "stdout",
     "output_type": "stream",
     "text": [
      "Logged info and error to info_and_error.log\n"
     ]
    }
   ],
   "source": [
    "\n",
    "# 13) Use logging module to log both info and error\n",
    "import logging\n",
    "logging.basicConfig(filename='info_and_error.log', level=logging.INFO, format='%(levelname)s:%(message)s')\n",
    "logging.info('This is an informational message')\n",
    "try:\n",
    "    1/0\n",
    "except ZeroDivisionError as e:\n",
    "    logging.error('Division error: %s', e)\n",
    "print('Logged info and error to info_and_error.log')\n"
   ]
  },
  {
   "cell_type": "code",
   "execution_count": 15,
   "id": "9eee94e3",
   "metadata": {},
   "outputs": [
    {
     "name": "stdout",
     "output_type": "stream",
     "text": [
      "File content:\n",
      " Hello, World!\n",
      "Additional line\n"
     ]
    }
   ],
   "source": [
    "\n",
    "# 14) Print the content of a file and handle empty file\n",
    "fname = 'example_write.txt'\n",
    "with open(fname, 'r', encoding='utf-8') as f:\n",
    "    contents = f.read()\n",
    "if contents.strip() == '':\n",
    "    print('File is empty')\n",
    "else:\n",
    "    print('File content:\\n', contents)\n"
   ]
  },
  {
   "cell_type": "code",
   "execution_count": 16,
   "id": "e4859329",
   "metadata": {},
   "outputs": [
    {
     "name": "stdout",
     "output_type": "stream",
     "text": [
      "Current memory: 3900.3 KB; Peak: 3920.2 KB\n"
     ]
    }
   ],
   "source": [
    "\n",
    "# 15) Simple memory profiling using tracemalloc\n",
    "import tracemalloc\n",
    "tracemalloc.start()\n",
    "\n",
    "a = [i for i in range(100000)]\n",
    "current, peak = tracemalloc.get_traced_memory()\n",
    "print(f'Current memory: {current/1024:.1f} KB; Peak: {peak/1024:.1f} KB')\n",
    "\n",
    "tracemalloc.stop()\n"
   ]
  },
  {
   "cell_type": "code",
   "execution_count": 17,
   "id": "9032b19e",
   "metadata": {},
   "outputs": [
    {
     "name": "stdout",
     "output_type": "stream",
     "text": [
      "Wrote numbers.txt\n"
     ]
    }
   ],
   "source": [
    "\n",
    "# 16) Write a list of numbers to a file, one number per line\n",
    "numbers = list(range(1, 11))\n",
    "with open('numbers.txt', 'w', encoding='utf-8') as f:\n",
    "    for num in numbers:\n",
    "        f.write(str(num) + '\\n')\n",
    "print('Wrote numbers.txt')\n"
   ]
  },
  {
   "cell_type": "code",
   "execution_count": 18,
   "id": "c8abaf97",
   "metadata": {},
   "outputs": [
    {
     "name": "stdout",
     "output_type": "stream",
     "text": [
      "Wrote rotating.log (rotation threshold 1MB)\n"
     ]
    }
   ],
   "source": [
    "\n",
    "# 17) Basic logging setup with rotation after 1MB\n",
    "import logging\n",
    "from logging.handlers import RotatingFileHandler\n",
    "\n",
    "logger = logging.getLogger('rotating_example')\n",
    "logger.setLevel(logging.INFO)\n",
    "handler = RotatingFileHandler('rotating.log', maxBytes=1_000_000, backupCount=3)\n",
    "formatter = logging.Formatter('%(asctime)s %(levelname)s:%(message)s')\n",
    "handler.setFormatter(formatter)\n",
    "logger.addHandler(handler)\n",
    "\n",
    "for i in range(100):\n",
    "    logger.info(f'Line {i} - test rotating file handler')\n",
    "print('Wrote rotating.log (rotation threshold 1MB)')\n"
   ]
  },
  {
   "cell_type": "code",
   "execution_count": 19,
   "id": "87c7faed",
   "metadata": {},
   "outputs": [
    {
     "name": "stdout",
     "output_type": "stream",
     "text": [
      "IndexError caught\n",
      "KeyError caught\n"
     ]
    }
   ],
   "source": [
    "\n",
    "# 18) Handle both IndexError and KeyError\n",
    "try:\n",
    "    lst = [1,2]\n",
    "    print(lst[5])\n",
    "except IndexError:\n",
    "    print('IndexError caught')\n",
    "\n",
    "try:\n",
    "    d = {'x': 100}\n",
    "    print(d['y'])\n",
    "except KeyError:\n",
    "    print('KeyError caught')\n"
   ]
  },
  {
   "cell_type": "code",
   "execution_count": 20,
   "id": "f02bf744",
   "metadata": {},
   "outputs": [
    {
     "name": "stdout",
     "output_type": "stream",
     "text": [
      "Hello, World!\n",
      "Additional line\n"
     ]
    }
   ],
   "source": [
    "\n",
    "# 19) Open a file and read using context manager\n",
    "with open('example_write.txt', 'r', encoding='utf-8') as f:\n",
    "    print(f.read())\n"
   ]
  },
  {
   "cell_type": "code",
   "execution_count": 21,
   "id": "fc2db9fa",
   "metadata": {},
   "outputs": [
    {
     "name": "stdout",
     "output_type": "stream",
     "text": [
      "Occurrences of \"Hello\": 1\n"
     ]
    }
   ],
   "source": [
    "\n",
    "# 20) Read a file and print number of occurrences of a specific word\n",
    "target = 'Hello'\n",
    "with open('example_write.txt', 'r', encoding='utf-8') as f:\n",
    "    text = f.read().lower()\n",
    "count = text.count(target.lower())\n",
    "print(f'Occurrences of \"{target}\":', count)\n"
   ]
  },
  {
   "cell_type": "code",
   "execution_count": 22,
   "id": "09f3998f",
   "metadata": {},
   "outputs": [
    {
     "name": "stdout",
     "output_type": "stream",
     "text": [
      "File length: 29\n"
     ]
    }
   ],
   "source": [
    "\n",
    "# 21) Check if file is empty before attempting to read\n",
    "import os\n",
    "fname = 'example_write.txt'\n",
    "if os.path.exists(fname) and os.path.getsize(fname) > 0:\n",
    "    with open(fname, 'r', encoding='utf-8') as f:\n",
    "        print('File length:', len(f.read()))\n",
    "else:\n",
    "    print('File missing or empty')\n"
   ]
  },
  {
   "cell_type": "code",
   "execution_count": 23,
   "id": "99188d50",
   "metadata": {},
   "outputs": [
    {
     "name": "stdout",
     "output_type": "stream",
     "text": [
      "Logged the file handling error.\n"
     ]
    }
   ],
   "source": [
    "\n",
    "# 22) Write to a log file when an error occurs during file handling\n",
    "import logging, os\n",
    "logging.basicConfig(filename='file_handling_errors.log', level=logging.ERROR, format='%(asctime)s %(levelname)s:%(message)s')\n",
    "try:\n",
    "    with open('nonexistent_dir/file.txt', 'r', encoding='utf-8') as f:\n",
    "        pass\n",
    "except Exception as e:\n",
    "    logging.error('Error during file handling: %s', e)\n",
    "    print('Logged the file handling error.')\n"
   ]
  }
 ],
 "metadata": {
  "kernelspec": {
   "display_name": "Python 3",
   "language": "python",
   "name": "python3"
  },
  "language_info": {
   "codemirror_mode": {
    "name": "ipython",
    "version": 3
   },
   "file_extension": ".py",
   "mimetype": "text/x-python",
   "name": "python",
   "nbconvert_exporter": "python",
   "pygments_lexer": "ipython3",
   "version": "3.13.2"
  }
 },
 "nbformat": 4,
 "nbformat_minor": 5
}
