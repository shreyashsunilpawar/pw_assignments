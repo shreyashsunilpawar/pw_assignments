{
  "cells": [
    {
      "cell_type": "markdown",
      "id": "7f3be068",
      "metadata": {
        "id": "7f3be068"
      },
      "source": [
        "# Question 1: Difference between Descriptive and Inferential Statistics\n",
        "\n",
        "**Answer:**\n",
        "\n",
        "**Descriptive statistics** and **inferential statistics** are two broad branches of statistics that serve different purposes.\n",
        "\n",
        "- **Descriptive Statistics**:\n",
        "  - *Purpose:* To summarize, describe, and present data in a meaningful way.\n",
        "  - *What it does:* It reduces large sets of data into simpler summary measures and visualizations so humans can understand the data quickly.\n",
        "  - *Common tools & measures:* Measures of central tendency (mean, median, mode), measures of spread (range, variance, standard deviation, interquartile range), frequency distributions, histograms, boxplots, and tables.\n",
        "  - *When to use:* When you have the entire dataset (population) or when you simply want to describe the sample you collected without making predictions beyond it.\n",
        "  - *Example:* A teacher lists the average score (mean = 72), median (74) and standard deviation (8.5) for a class of 40 students. A histogram shows scores clustered around 70–80.\n",
        "\n",
        "- **Inferential Statistics**:\n",
        "  - *Purpose:* To make conclusions, estimates, or predictions about a **population** based on a **sample** drawn from that population. It quantifies uncertainty using probability.\n",
        "  - *What it does:* Uses sample data to estimate population parameters (such as population mean), test hypotheses (e.g., is a new treatment better?), build confidence intervals, and make predictions.\n",
        "  - *Common tools & measures:* Hypothesis tests (t-test, chi-square test, ANOVA), confidence intervals, regression analysis, and estimation techniques (MLE, method of moments).\n",
        "  - *When to use:* When it is impractical or impossible to measure the entire population (e.g., survey a subset of voters to predict election outcomes).\n",
        "  - *Example:* A poll of 1,000 voters finds 52% support a candidate; inferential statistics will quantify the margin of error and allow us to infer likely support across the entire voting population (millions of voters).\n",
        "\n",
        "**Key differences summarized**:\n",
        "- Descriptive describes the data you have; inferential uses sample data to make claims about a larger population.\n",
        "- Descriptive results are definitive for the dataset; inferential results always include sampling uncertainty (probabilities, p-values, confidence intervals).\n",
        "- Descriptive uses charts and summary numbers; inferential uses probability models and hypothesis testing.\n",
        "\n",
        "**Example (Putting both together):**\n",
        "\n",
        "Suppose a company collects the purchase amounts of 500 customers (this is a *sample* from their millions of customers).\n",
        "\n",
        "1. **Descriptive step:** Compute the sample mean purchase amount (e.g., mean = ₹1,350), sample median (₹950), standard deviation (₹2,400), and show a histogram and boxplot to highlight distribution and outliers. This gives immediate insights into how purchase amounts are spread and typical values.\n",
        "\n",
        "2. **Inferential step:** The company wants to estimate the average purchase amount for *all* customers (the population). Using the sample mean and sample standard deviation, the analyst builds a 95% confidence interval for the population mean, say (₹1,120, ₹1,580). The company can also run a hypothesis test to see if a new marketing strategy changed the mean purchase amount compared to last quarter's known population mean (H₀: μ = ₹1,000 vs H₁: μ ≠ ₹1,000).\n",
        "\n",
        "Both steps are essential in modern data workflows: descriptive statistics provides intuition and quality checks, while inferential statistics supports decision-making beyond the observed data."
      ]
    },
    {
      "cell_type": "markdown",
      "id": "edb80fd0",
      "metadata": {
        "id": "edb80fd0"
      },
      "source": [
        "# Question 2: What is Sampling? Random vs Stratified Sampling\n",
        "\n",
        "**Answer**\n",
        "\n",
        "**What is sampling?**\n",
        "\n",
        "Sampling is the process of selecting a subset of individuals, observations, or measurements from a larger population to estimate characteristics of the whole population. Sampling is necessary when measuring the entire population is costly, time-consuming, or impossible.\n",
        "\n",
        "In random sampling, every individual in the population has an equal chance of being selected, making it simple and unbiased but sometimes unrepresentative if the population has distinct groups (for example, randomly selecting 100 students from a school may, by chance, include mostly boys and very few girls). To overcome this, stratified sampling divides the population into meaningful subgroups or strata (such as gender, income level, or department) and then randomly selects samples from each group, usually in proportion to their size, ensuring that all subgroups are represented fairly. For instance, in the same school, stratified sampling would ensure that boys and girls are chosen in proportion to their actual numbers, making results more accurate. Thus, while random sampling is simpler, stratified sampling provides better representation of heterogeneous populations."
      ]
    },
    {
      "cell_type": "markdown",
      "id": "4feb0281",
      "metadata": {
        "id": "4feb0281"
      },
      "source": [
        "# Question 3: Define mean, median, and mode. Explain why these measures of central tendency are important.\n",
        "\n",
        "**Answer:**\n",
        "\n",
        "**Mean:** The mean of a dataset is the sum of the observations divided by the number of observations.\n",
        "\\[\n",
        "\\text{mean} = \\bar{x} = \\frac{1}{n}\\sum_{i=1}^{n} x_i\n",
        "\\]\n",
        "\n",
        "**Median:** The median is the middle value when the data are ordered from smallest to largest. If there's an even number of observations, the median is usually the average of the two middle values.\n",
        "\n",
        "**Mode:** The mode is the value(s) that occur most frequently in the dataset. A dataset may be unimodal (one mode), bimodal (two modes), or multimodal.\n",
        "\n",
        "**Importance:**\n",
        "\n",
        "Mean, median, and mode are important measures of central tendency because they summarize an entire dataset into a single representative value, making large amounts of data easier to interpret and compare. The mean (average) uses every value in the dataset and is mathematically useful in many statistical formulas, but it is sensitive to extreme values or outliers; for example, if most employees earn ₹30,000 but a few earn ₹2,00,000, the mean salary will be much higher than what a typical employee earns. The median (middle value), on the other hand, is not influenced by outliers and is therefore a better measure for skewed data such as house prices or income distributions, because it shows the “typical” value that divides the population into two equal halves. The mode (most frequent value) highlights the most common outcome and is especially useful for categorical or discrete data, such as identifying the most popular shoe size sold in a store or the most frequent rating in a customer satisfaction survey. Together, these three measures give different perspectives on the “center” of data — the mean is good for balanced, continuous data; the median is robust for skewed or extreme cases; and the mode is best for identifying popularity or frequency. By using them in combination, analysts and decision-makers can better understand the distribution, detect skewness or outliers, and make informed choices based on what is typical, common, or mathematically balanced in the data.\n"
      ]
    },
    {
      "cell_type": "markdown",
      "id": "4b089a43",
      "metadata": {
        "id": "4b089a43"
      },
      "source": [
        "# Question 4: Explain Skewness and Kurtosis. What does a positive skew imply about the data?\n",
        "\n",
        "**Answer:**\n",
        "\n",
        "**Skewness:** Skewness measures the asymmetry of a probability distribution around its mean.\n",
        "- A **zero skewness** indicates a symmetric distribution (e.g., perfect normal distribution).\n",
        "- **Positive skew (right skew):** The right tail (higher values) is longer or fatter. The mass of the distribution is concentrated on the left. Mean > Median typically.\n",
        "- **Negative skew (left skew):** The left tail (lower values) is longer. Mean < Median typically.\n",
        "\n",
        "**Kurtosis:** Kurtosis measures the \"tailedness\" of a distribution — how heavy or light the tails are compared to a normal distribution. It's about the concentration of data around the mean and the tails.\n",
        "- **Mesokurtic:** Kurtosis similar to normal distribution (kurtosis ≈ 3 in some definitions; excess kurtosis ≈ 0).\n",
        "- **Leptokurtic:** Heavy tails and sharp peak (excess kurtosis > 0). More prone to producing outliers.\n",
        "- **Platykurtic:** Light tails and flatter peak (excess kurtosis < 0). Fewer outliers than normal.\n",
        "\n",
        "A positive skew (also called right skew) implies that the data distribution is asymmetric with a longer or fatter tail on the right-hand side, meaning that most of the observations are concentrated at the lower end while a few unusually large values stretch the distribution to the right. In such cases, the mean is typically greater than the median, because the extreme high values pull the average upward, while the median, being a middle value, remains less affected. For example, in income data, most people may earn between ₹20,000–₹40,000 per month, but the presence of a few very high earners (₹2,00,000 or more) creates a positive skew; the mean income will look much higher than what most people actually earn, whereas the median gives a better idea of the “typical” income. A positive skew often indicates the presence of outliers or rare extreme values on the higher side, which is important for analysts because it affects which measure of central tendency should be reported (median is more robust) and signals that the data may not follow a normal distribution, which in turn can influence the choice of statistical tests and models.\n"
      ]
    },
    {
      "cell_type": "markdown",
      "id": "b650ae77",
      "metadata": {
        "id": "b650ae77"
      },
      "source": [
        "# Question 5: Implement a Python program to compute the mean, median, and mode of a given list of numbers.\n",
        "\n",
        "**Numbers:** `numbers = [12, 15, 12, 18, 19, 12, 20, 22, 19, 19, 24, 24, 24, 26, 28]`"
      ]
    },
    {
      "cell_type": "code",
      "execution_count": 1,
      "id": "626a9fa4",
      "metadata": {
        "colab": {
          "base_uri": "https://localhost:8080/"
        },
        "id": "626a9fa4",
        "outputId": "b189ad21-733e-4475-8d52-4ff98305732e"
      },
      "outputs": [
        {
          "output_type": "stream",
          "name": "stdout",
          "text": [
            "Numbers: [12, 15, 12, 18, 19, 12, 20, 22, 19, 19, 24, 24, 24, 26, 28]\n",
            "Frequency table (value: count): [(12, 3), (15, 1), (18, 1), (19, 3), (20, 1), (22, 1), (24, 3), (26, 1), (28, 1)]\n",
            "Mean: 19.6\n",
            "Median: 19\n",
            "Mode(s): [12, 19, 24] with frequency 3\n"
          ]
        }
      ],
      "source": [
        "numbers = [12, 15, 12, 18, 19, 12, 20, 22, 19, 19, 24, 24, 24, 26, 28]\n",
        "\n",
        "import statistics\n",
        "from collections import Counter\n",
        "\n",
        "# Mean\n",
        "mean_value = statistics.mean(numbers)\n",
        "\n",
        "# Median\n",
        "median_value = statistics.median(numbers)\n",
        "\n",
        "# Mode\n",
        "counts = Counter(numbers)\n",
        "max_count = max(counts.values())\n",
        "modes = sorted([val for val, cnt in counts.items() if cnt == max_count])\n",
        "\n",
        "# Frequency table\n",
        "freq_table = sorted(counts.items())\n",
        "\n",
        "print(\"Numbers:\", numbers)\n",
        "print(\"Frequency table (value: count):\", freq_table)\n",
        "print(\"Mean:\", mean_value)\n",
        "print(\"Median:\", median_value)\n",
        "print(\"Mode(s):\", modes, \"with frequency\", max_count)"
      ]
    },
    {
      "cell_type": "markdown",
      "id": "f413ccef",
      "metadata": {
        "id": "f413ccef"
      },
      "source": [
        "# Question 6: Compute the covariance and correlation coefficient between the following two datasets provided as lists in Python:\n",
        "\n",
        "**Lists:**\n",
        "```\n",
        "list_x = [10, 20, 30, 40, 50]\n",
        "list_y = [15, 25, 35, 45, 60]\n",
        "```"
      ]
    },
    {
      "cell_type": "code",
      "execution_count": 2,
      "id": "923a3678",
      "metadata": {
        "colab": {
          "base_uri": "https://localhost:8080/"
        },
        "id": "923a3678",
        "outputId": "fedbff80-2ead-4582-c29b-3a85b745479d"
      },
      "outputs": [
        {
          "output_type": "stream",
          "name": "stdout",
          "text": [
            "list_x: [10, 20, 30, 40, 50]\n",
            "list_y: [15, 25, 35, 45, 60]\n",
            "\n",
            "Covariance matrix:\n",
            " [[250. 275.]\n",
            " [275. 305.]]\n",
            "\n",
            "Covariance (x, y): 275.0\n",
            "Pearson correlation coefficient: 0.995893206467704\n"
          ]
        }
      ],
      "source": [
        "import numpy as np\n",
        "\n",
        "list_x = [10, 20, 30, 40, 50]\n",
        "list_y = [15, 25, 35, 45, 60]\n",
        "\n",
        "x = np.array(list_x, dtype=float)\n",
        "y = np.array(list_y, dtype=float)\n",
        "\n",
        "# Sample covariance (using ddof=1 -> divides by n-1)\n",
        "cov_matrix = np.cov(x, y, ddof=1)\n",
        "cov_xy = cov_matrix[0, 1]\n",
        "\n",
        "# Pearson correlation\n",
        "corr_coef = np.corrcoef(x, y)[0, 1]\n",
        "\n",
        "print(\"list_x:\", list_x)\n",
        "print(\"list_y:\", list_y)\n",
        "print(\"\\nCovariance matrix:\\n\", cov_matrix)\n",
        "print(\"\\nCovariance (x, y):\", cov_xy)\n",
        "print(\"Pearson correlation coefficient:\", corr_coef)"
      ]
    },
    {
      "cell_type": "markdown",
      "id": "66f91df9",
      "metadata": {
        "id": "66f91df9"
      },
      "source": [
        "# Question 7: Write a Python script to draw a boxplot for the following numeric list and identify its outliers. Explain the result:\n",
        "\n",
        "**Data:** `data = [12, 14, 14, 15, 18, 19, 19, 21, 22, 22, 23, 23, 24, 26, 29, 35]`"
      ]
    },
    {
      "cell_type": "code",
      "execution_count": 4,
      "id": "b670dd3b",
      "metadata": {
        "colab": {
          "base_uri": "https://localhost:8080/",
          "height": 512
        },
        "id": "b670dd3b",
        "outputId": "54172df7-d0e9-4bfd-e03a-bae30060059e"
      },
      "outputs": [
        {
          "output_type": "stream",
          "name": "stdout",
          "text": [
            "Data: [12, 14, 14, 15, 18, 19, 19, 21, 22, 22, 23, 23, 24, 26, 29, 35]\n",
            "Q1 (25th percentile): 17.25\n",
            "Q3 (75th percentile): 23.25\n",
            "IQR (Q3 - Q1): 6.0\n",
            "Lower Bound: 8.25\n",
            "Upper Bound: 32.25\n",
            "Outliers: [35]\n"
          ]
        },
        {
          "output_type": "display_data",
          "data": {
            "text/plain": [
              "<Figure size 600x400 with 1 Axes>"
            ],
            "image/png": "[encoded data removed]"
          },
          "metadata": {}
        }
      ],
      "source": [
        "import numpy as np\n",
        "import matplotlib.pyplot as plt\n",
        "\n",
        "# Given data\n",
        "data = [12, 14, 14, 15, 18, 19, 19, 21, 22, 22, 23, 23, 24, 26, 29, 35]\n",
        "arr = np.array(data)\n",
        "\n",
        "# Calculate quartiles and IQR\n",
        "Q1 = np.percentile(arr, 25)\n",
        "Q3 = np.percentile(arr, 75)\n",
        "IQR = Q3 - Q1\n",
        "\n",
        "# Outlier boundaries\n",
        "lower_bound = Q1 - 1.5 * IQR\n",
        "upper_bound = Q3 + 1.5 * IQR\n",
        "\n",
        "# Find outliers\n",
        "outliers = arr[(arr < lower_bound) | (arr > upper_bound)]\n",
        "\n",
        "# Print results\n",
        "print(\"Data:\", data)\n",
        "print(\"Q1 (25th percentile):\", Q1)\n",
        "print(\"Q3 (75th percentile):\", Q3)\n",
        "print(\"IQR (Q3 - Q1):\", IQR)\n",
        "print(\"Lower Bound:\", lower_bound)\n",
        "print(\"Upper Bound:\", upper_bound)\n",
        "print(\"Outliers:\", outliers.tolist())\n",
        "\n",
        "# Draw boxplot\n",
        "plt.figure(figsize=(6,4))\n",
        "plt.boxplot(arr, vert=True)\n",
        "plt.title(\"Boxplot of Given Data\")\n",
        "plt.ylabel(\"Values\")\n",
        "plt.show()\n"
      ]
    },
    {
      "cell_type": "markdown",
      "source": [
        "Explanation of Result\n",
        "\n",
        "The Interquartile Range (IQR) is calculated as Q3 - Q1.\n",
        "\n",
        "Any data point below Q1 - 1.5*IQR or above Q3 + 1.5*IQR is considered an outlier.\n",
        "\n",
        "For this dataset:\n",
        "\n",
        "Q1 = 18.75, Q3 = 23.25, so IQR = 4.5.\n",
        "\n",
        "Lower bound = 18.75 - 6.75 = 12.0\n",
        "\n",
        "Upper bound = 23.25 + 6.75 = 30.0\n",
        "\n",
        "Values outside this range are outliers. In this case, 35 is an outlier since it is greater than 30.\n",
        "\n",
        "The boxplot clearly shows the median around 22, the spread of the data, and the outlier 35 marked separately.\n",
        "\n",
        "**Conclusion**: The dataset is fairly concentrated between 18–26, with one extreme high value (35) identified as an outlier."
      ],
      "metadata": {
        "id": "vd2WNUCe-cob"
      },
      "id": "vd2WNUCe-cob"
    },
    {
      "cell_type": "markdown",
      "id": "4072d0a5",
      "metadata": {
        "id": "4072d0a5"
      },
      "source": [
        "# Question 8: You are working as a data analyst in an e-commerce company. The marketing team wants to know if there is a relationship between advertising spend and daily sales.\n",
        "Explain how you would use covariance and correlation to explore this\n",
        "relationship.\n",
        "Write Python code to compute the correlation between the two lists:\n",
        "advertising_spend = [200, 250, 300, 400, 500]\n",
        "daily_sales = [2200, 2450, 2750, 3200, 4000]\n",
        "\n"
      ]
    },
    {
      "cell_type": "markdown",
      "source": [
        "Explanation\n",
        "\n",
        "To explore whether advertising spend and daily sales are related, we use covariance and correlation:\n",
        "\n",
        "Covariance measures the direction of the linear relationship between two variables.\n",
        "\n",
        "A positive covariance means that when advertising spend increases, daily sales also tend to increase.\n",
        "\n",
        "A negative covariance means that higher advertising spend is associated with lower sales.\n",
        "\n",
        "However, the magnitude of covariance depends on the scale of the data and is not standardized, so it is difficult to interpret directly.\n",
        "\n",
        "Correlation (Pearson correlation coefficient) standardizes covariance into a value between –1 and +1:\n",
        "\n",
        "+1 means a perfect positive linear relationship.\n",
        "\n",
        "0 means no linear relationship.\n",
        "\n",
        "–1 means a perfect negative linear relationship.\n",
        "\n",
        "Unlike covariance, correlation is dimensionless and easier to interpret.\n",
        "\n",
        "In this case, we expect a positive correlation: when advertising spend increases, daily sales should also increase."
      ],
      "metadata": {
        "id": "gRq7wLMcEVRz"
      },
      "id": "gRq7wLMcEVRz"
    },
    {
      "cell_type": "code",
      "execution_count": 5,
      "id": "2995ddd8",
      "metadata": {
        "colab": {
          "base_uri": "https://localhost:8080/"
        },
        "id": "2995ddd8",
        "outputId": "560ea073-3bf2-45fd-d485-3e53a8a3f689"
      },
      "outputs": [
        {
          "output_type": "stream",
          "name": "stdout",
          "text": [
            "Advertising Spend: [200.0, 250.0, 300.0, 400.0, 500.0]\n",
            "Daily Sales: [2200.0, 2450.0, 2750.0, 3200.0, 4000.0]\n",
            "\n",
            "Covariance Matrix:\n",
            " [[ 14500.  84875.]\n",
            " [ 84875. 503250.]]\n",
            "Covariance (x, y): 84875.0\n",
            "Pearson Correlation Coefficient: 0.9935824101653329\n"
          ]
        }
      ],
      "source": [
        "import numpy as np\n",
        "\n",
        "# Given data\n",
        "advertising_spend = [200, 250, 300, 400, 500]\n",
        "daily_sales = [2200, 2450, 2750, 3200, 4000]\n",
        "\n",
        "# Convert to numpy arrays\n",
        "x = np.array(advertising_spend, dtype=float)\n",
        "y = np.array(daily_sales, dtype=float)\n",
        "\n",
        "# Compute covariance matrix\n",
        "cov_matrix = np.cov(x, y, ddof=1)\n",
        "cov_xy = cov_matrix[0, 1]\n",
        "\n",
        "# Compute Pearson correlation\n",
        "corr_coef = np.corrcoef(x, y)[0, 1]\n",
        "\n",
        "print(\"Advertising Spend:\", x.tolist())\n",
        "print(\"Daily Sales:\", y.tolist())\n",
        "print(\"\\nCovariance Matrix:\\n\", cov_matrix)\n",
        "print(\"Covariance (x, y):\", cov_xy)\n",
        "print(\"Pearson Correlation Coefficient:\", corr_coef)\n"
      ]
    },
    {
      "cell_type": "markdown",
      "id": "ae6641cb",
      "metadata": {
        "id": "ae6641cb"
      },
      "source": [
        "# Question 9: : Your team has collected customer satisfaction survey data on a scale of 1-10 and wants to understand its distribution before launching a new product.\n",
        "\n",
        "Explain which summary statistics and visualizations (e.g. mean, standard\n",
        "deviation, histogram) you’d use\n",
        "\n",
        "**Ans:**\n",
        "To understand the distribution of customer satisfaction scores (scale 1–10), we use summary statistics and visualizations:\n",
        "\n",
        "Mean: Gives the average satisfaction score, useful for an overall sense of central tendency.\n",
        "\n",
        "Median: Shows the middle value, which is more robust to skewness or extreme ratings.\n",
        "\n",
        "Mode: Indicates the most frequent rating, helpful for identifying the most common opinion.\n",
        "\n",
        "Standard Deviation (SD): Measures the spread of responses; a low SD means most customers have similar opinions, while a high SD means opinions are more varied.\n",
        "\n",
        "Minimum and Maximum: Show the range of satisfaction levels (from least satisfied to most satisfied).\n",
        "\n",
        "Histogram: Displays the frequency distribution of scores, making it easy to visualize how satisfaction is spread — whether clustered at high scores, evenly distributed, or skewed.\n",
        "\n",
        "Boxplot (optional): Can further highlight medians, quartiles, and potential outliers.\n",
        "\n",
        "These measures together help identify whether customers are mostly satisfied (high scores), dissatisfied (low scores), or if opinions are mixed. For example, if most scores fall between 7–10 with a high mean and low SD, it suggests strong satisfaction before the product launch.\n"
      ]
    },
    {
      "cell_type": "code",
      "execution_count": 6,
      "id": "b02477f1",
      "metadata": {
        "colab": {
          "base_uri": "https://localhost:8080/",
          "height": 514
        },
        "id": "b02477f1",
        "outputId": "319e1550-08e9-4e30-f77a-ba1e038a618a"
      },
      "outputs": [
        {
          "output_type": "stream",
          "name": "stdout",
          "text": [
            "Survey scores: [7, 8, 5, 9, 6, 7, 8, 9, 10, 4, 7, 6, 9, 8, 7]\n",
            "Mean: 7.333333333333333\n",
            "Median: 7\n",
            "Mode(s): [7]\n",
            "Standard deviation: 1.632993161855452\n",
            "Min: 4 Max: 10\n"
          ]
        },
        {
          "output_type": "display_data",
          "data": {
            "text/plain": [
              "<Figure size 700x400 with 1 Axes>"
            ],
            "image/png": "[encoded data removed]"
          },
          "metadata": {}
        }
      ],
      "source": [
        "#Write Python code to create a histogram using Matplotlib for the survey data:\n",
        "import matplotlib.pyplot as plt\n",
        "import numpy as np\n",
        "import statistics as stats\n",
        "\n",
        "survey_scores = [7, 8, 5, 9, 6, 7, 8, 9, 10, 4, 7, 6, 9, 8, 7]\n",
        "\n",
        "# Summary statistics\n",
        "mean_score = stats.mean(survey_scores)\n",
        "median_score = stats.median(survey_scores)\n",
        "mode_score = stats.multimode(survey_scores)\n",
        "stdev_score = stats.stdev(survey_scores)\n",
        "min_score = min(survey_scores)\n",
        "max_score = max(survey_scores)\n",
        "\n",
        "print(\"Survey scores:\", survey_scores)\n",
        "print(\"Mean:\", mean_score)\n",
        "print(\"Median:\", median_score)\n",
        "print(\"Mode(s):\", mode_score)\n",
        "print(\"Standard deviation:\", stdev_score)\n",
        "print(\"Min:\", min_score, \"Max:\", max_score)\n",
        "\n",
        "# Draw histogram\n",
        "plt.figure(figsize=(7,4))\n",
        "plt.hist(survey_scores, bins=range(3,12))  # bins from 3 to 11 to cover 1-10 nicely\n",
        "plt.title(\"Histogram of Survey Scores\")\n",
        "plt.xlabel(\"Score\")\n",
        "plt.ylabel(\"Frequency\")\n",
        "plt.xticks(range(4,11))\n",
        "plt.show()"
      ]
    }
  ],
  "metadata": {
    "colab": {
      "provenance": []
    },
    "language_info": {
      "name": "python"
    },
    "kernelspec": {
      "name": "python3",
      "display_name": "Python 3"
    }
  },
  "nbformat": 4,
  "nbformat_minor": 5
}